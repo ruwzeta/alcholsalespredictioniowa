{
 "cells": [
  {
   "cell_type": "markdown",
   "id": "a913bce5-7b22-438b-9a88-629957732ef9",
   "metadata": {},
   "source": [
    "## Group 7 - Predicting Alcohol sales demand during the Christmas Season using Machine Learning Techniques\n",
    "\n",
    "### Group Members : \n",
    "### Hettige Don Ruwindhu Chandraratne \n",
    "### Thimantha Vidanagamage\n",
    "### Suheet Sonawane\n",
    "### Samarpan Pandey\n",
    "### Tirthesh Jani "
   ]
  },
  {
   "cell_type": "markdown",
   "id": "c62ccc7e-016c-4403-8a4a-cfb64113de50",
   "metadata": {},
   "source": [
    "### Header Documentation "
   ]
  },
  {
   "cell_type": "markdown",
   "id": "9b821324-b968-4196-b9ac-2c1a811f2715",
   "metadata": {},
   "source": [
    "### Problem Statement \n",
    "\n",
    "Liquor stores in the state of Iowa, United States generate the highest monthly sales every year during December (Christmas Season) which is around 15 - 20 percent of their annual sales. However, due to incorrect Sales predictions which the sales professionals (in stores) calculate by the moving average through the last 5 years, the Supply chain of the majority of liquor stores tends to be disrupted. This is because only year and month are considered as factors for these sales predictions while excluding other essential factors such as product and vendor. Even though these sales professionals do not possess with any technical knowldege related to Aritificial Intelligence, they require a predictive model to predict liquor sales. The objective of this project is to build a predictive model using an AutoML to predict daily liquor sales in December with time series forecasting, as sales professionals in the liquor stores.\n"
   ]
  },
  {
   "cell_type": "markdown",
   "id": "3324cc2b-8670-4efd-94ca-9d50c271c047",
   "metadata": {},
   "source": [
    "### Project Code "
   ]
  },
  {
   "cell_type": "code",
   "execution_count": 1,
   "id": "a6b710fb-9d11-48ef-97f6-2fa00b9fe264",
   "metadata": {
    "_cell_guid": "b1076dfc-b9ad-4769-8c92-a6c4dae69d19",
    "_uuid": "8f2839f25d086af736a60e9eeb907d3b93b6e0e5",
    "execution": {
     "iopub.execute_input": "2021-12-08T20:44:36.460476Z",
     "iopub.status.busy": "2021-12-08T20:44:36.460076Z",
     "iopub.status.idle": "2021-12-08T20:44:36.496911Z",
     "shell.execute_reply": "2021-12-08T20:44:36.496047Z",
     "shell.execute_reply.started": "2021-12-08T20:44:36.460361Z"
    }
   },
   "outputs": [
    {
     "name": "stderr",
     "output_type": "stream",
     "text": [
      "C:\\Users\\ruwin\\anaconda3\\lib\\site-packages\\statsmodels\\tsa\\base\\tsa_model.py:7: FutureWarning: pandas.Int64Index is deprecated and will be removed from pandas in a future version. Use pandas.Index with the appropriate dtype instead.\n",
      "  from pandas import (to_datetime, Int64Index, DatetimeIndex, Period,\n",
      "C:\\Users\\ruwin\\anaconda3\\lib\\site-packages\\statsmodels\\tsa\\base\\tsa_model.py:7: FutureWarning: pandas.Float64Index is deprecated and will be removed from pandas in a future version. Use pandas.Index with the appropriate dtype instead.\n",
      "  from pandas import (to_datetime, Int64Index, DatetimeIndex, Period,\n"
     ]
    },
    {
     "name": "stdout",
     "output_type": "stream",
     "text": [
      "WARN: OMP_NUM_THREADS=None =>\n",
      "... If you are using openblas if you are using openblas set OMP_NUM_THREADS=1 or risk subprocess calls hanging indefinitely\n"
     ]
    },
    {
     "name": "stderr",
     "output_type": "stream",
     "text": [
      "C:\\Users\\ruwin\\anaconda3\\lib\\site-packages\\xgboost\\compat.py:36: FutureWarning: pandas.Int64Index is deprecated and will be removed from pandas in a future version. Use pandas.Index with the appropriate dtype instead.\n",
      "  from pandas import MultiIndex, Int64Index\n"
     ]
    },
    {
     "data": {
      "text/html": [
       "<style type='text/css'>\n",
       ".datatable table.frame { margin-bottom: 0; }\n",
       ".datatable table.frame thead { border-bottom: none; }\n",
       ".datatable table.frame tr.coltypes td {  color: #FFFFFF;  line-height: 6px;  padding: 0 0.5em;}\n",
       ".datatable .bool    { background: #DDDD99; }\n",
       ".datatable .object  { background: #565656; }\n",
       ".datatable .int     { background: #5D9E5D; }\n",
       ".datatable .float   { background: #4040CC; }\n",
       ".datatable .str     { background: #CC4040; }\n",
       ".datatable .time    { background: #40CC40; }\n",
       ".datatable .row_index {  background: var(--jp-border-color3);  border-right: 1px solid var(--jp-border-color0);  color: var(--jp-ui-font-color3);  font-size: 9px;}\n",
       ".datatable .frame tbody td { text-align: left; }\n",
       ".datatable .frame tr.coltypes .row_index {  background: var(--jp-border-color0);}\n",
       ".datatable th:nth-child(2) { padding-left: 12px; }\n",
       ".datatable .hellipsis {  color: var(--jp-cell-editor-border-color);}\n",
       ".datatable .vellipsis {  background: var(--jp-layout-color0);  color: var(--jp-cell-editor-border-color);}\n",
       ".datatable .na {  color: var(--jp-cell-editor-border-color);  font-size: 80%;}\n",
       ".datatable .sp {  opacity: 0.25;}\n",
       ".datatable .footer { font-size: 9px; }\n",
       ".datatable .frame_dimensions {  background: var(--jp-border-color3);  border-top: 1px solid var(--jp-border-color0);  color: var(--jp-ui-font-color3);  display: inline-block;  opacity: 0.6;  padding: 1px 10px 1px 5px;}\n",
       "</style>\n"
      ],
      "text/plain": [
       "<IPython.core.display.HTML object>"
      ]
     },
     "metadata": {},
     "output_type": "display_data"
    }
   ],
   "source": [
    "## Importing Necessary Libraries \n",
    "import numpy as np \n",
    "import pandas as pd \n",
    "import matplotlib.pyplot as plt\n",
    "import seaborn as sb\n",
    "import statsmodels.api as sm\n",
    "import datetime\n",
    "from sklearn.model_selection import train_test_split\n",
    "from sklearn.metrics import mean_absolute_error\n",
    "from hpsklearn import HyperoptEstimator\n",
    "from lightgbm.sklearn import LGBMRegressor\n",
    "from hpsklearn import any_regressor, random_forest_regression\n",
    "from hpsklearn import xgboost_regression , svr_sigmoid, knn_regression\n",
    "from hpsklearn import any_preprocessing\n",
    "from hyperopt import fmin, tpe, hp, anneal, Trials\n",
    "from sklearn.model_selection import KFold, cross_val_score\n",
    "import joblib\n",
    "import seaborn as sns "
   ]
  },
  {
   "cell_type": "code",
   "execution_count": 2,
   "id": "58563203-49c4-4f36-a8de-2c9f0e892dfd",
   "metadata": {
    "execution": {
     "iopub.execute_input": "2021-12-08T20:44:40.55904Z",
     "iopub.status.busy": "2021-12-08T20:44:40.558117Z",
     "iopub.status.idle": "2021-12-08T20:44:58.662591Z",
     "shell.execute_reply": "2021-12-08T20:44:58.661649Z",
     "shell.execute_reply.started": "2021-12-08T20:44:40.558988Z"
    },
    "jupyter": {
     "source_hidden": true
    },
    "scrolled": true,
    "tags": []
   },
   "outputs": [
    {
     "name": "stderr",
     "output_type": "stream",
     "text": [
      "C:\\Users\\ruwin\\AppData\\Local\\Temp/ipykernel_5772/622713995.py:3: DtypeWarning: Columns (6,14) have mixed types. Specify dtype option on import or set low_memory=False.\n",
      "  ILS = pd.read_csv('Iowa_Liquor_Sales.csv')\n"
     ]
    }
   ],
   "source": [
    "# Reading in the full dataset\n",
    "\n",
    "ILS = pd.read_csv('Iowa_Liquor_Sales.csv')"
   ]
  },
  {
   "cell_type": "markdown",
   "id": "c3f78378-ddc7-4f27-b928-bd08b51e10a9",
   "metadata": {},
   "source": [
    "###  Simple EDA "
   ]
  },
  {
   "cell_type": "code",
   "execution_count": 3,
   "id": "2f37859a-6bb9-4a76-a9aa-8361256ebada",
   "metadata": {
    "jupyter": {
     "source_hidden": true
    },
    "tags": []
   },
   "outputs": [
    {
     "data": {
      "text/plain": [
       "Index(['Invoice/Item Number', 'Date', 'Store Number', 'Store Name', 'Address',\n",
       "       'City', 'Zip Code', 'Store Location', 'County Number', 'County',\n",
       "       'Category', 'Category Name', 'Vendor Number', 'Vendor Name',\n",
       "       'Item Number', 'Item Description', 'Pack', 'Bottle Volume (ml)',\n",
       "       'State Bottle Cost', 'State Bottle Retail', 'Bottles Sold',\n",
       "       'Sale (Dollars)', 'Volume Sold (Liters)', 'Volume Sold (Gallons)'],\n",
       "      dtype='object')"
      ]
     },
     "execution_count": 3,
     "metadata": {},
     "output_type": "execute_result"
    }
   ],
   "source": [
    "ILS.columns"
   ]
  },
  {
   "cell_type": "code",
   "execution_count": 4,
   "id": "ed45fe98-a968-48cc-962a-1adbaec83bd0",
   "metadata": {},
   "outputs": [
    {
     "data": {
      "text/plain": [
       "(19666763, 24)"
      ]
     },
     "execution_count": 4,
     "metadata": {},
     "output_type": "execute_result"
    }
   ],
   "source": [
    "ILS.shape"
   ]
  },
  {
   "cell_type": "code",
   "execution_count": 5,
   "id": "ccd0446b-b3af-4a57-b75b-cdf5e0589b4e",
   "metadata": {
    "execution": {
     "iopub.execute_input": "2021-12-08T20:46:08.173438Z",
     "iopub.status.busy": "2021-12-08T20:46:08.173107Z",
     "iopub.status.idle": "2021-12-08T20:46:08.198699Z",
     "shell.execute_reply": "2021-12-08T20:46:08.197979Z",
     "shell.execute_reply.started": "2021-12-08T20:46:08.173387Z"
    }
   },
   "outputs": [
    {
     "data": {
      "text/html": [
       "<div>\n",
       "<style scoped>\n",
       "    .dataframe tbody tr th:only-of-type {\n",
       "        vertical-align: middle;\n",
       "    }\n",
       "\n",
       "    .dataframe tbody tr th {\n",
       "        vertical-align: top;\n",
       "    }\n",
       "\n",
       "    .dataframe thead th {\n",
       "        text-align: right;\n",
       "    }\n",
       "</style>\n",
       "<table border=\"1\" class=\"dataframe\">\n",
       "  <thead>\n",
       "    <tr style=\"text-align: right;\">\n",
       "      <th></th>\n",
       "      <th>Invoice/Item Number</th>\n",
       "      <th>Date</th>\n",
       "      <th>Store Number</th>\n",
       "      <th>Store Name</th>\n",
       "      <th>Address</th>\n",
       "      <th>City</th>\n",
       "      <th>Zip Code</th>\n",
       "      <th>Store Location</th>\n",
       "      <th>County Number</th>\n",
       "      <th>County</th>\n",
       "      <th>...</th>\n",
       "      <th>Item Number</th>\n",
       "      <th>Item Description</th>\n",
       "      <th>Pack</th>\n",
       "      <th>Bottle Volume (ml)</th>\n",
       "      <th>State Bottle Cost</th>\n",
       "      <th>State Bottle Retail</th>\n",
       "      <th>Bottles Sold</th>\n",
       "      <th>Sale (Dollars)</th>\n",
       "      <th>Volume Sold (Liters)</th>\n",
       "      <th>Volume Sold (Gallons)</th>\n",
       "    </tr>\n",
       "  </thead>\n",
       "  <tbody>\n",
       "    <tr>\n",
       "      <th>0</th>\n",
       "      <td>S24127700024</td>\n",
       "      <td>02/19/2015</td>\n",
       "      <td>3678</td>\n",
       "      <td>Smoke Shop, The</td>\n",
       "      <td>1918 SE 14TH ST</td>\n",
       "      <td>DES MOINES</td>\n",
       "      <td>50320</td>\n",
       "      <td>POINT (-93.597011 41.570844)</td>\n",
       "      <td>77.0</td>\n",
       "      <td>Polk</td>\n",
       "      <td>...</td>\n",
       "      <td>41783</td>\n",
       "      <td>Uv Blue Raspberry Vodka Mini</td>\n",
       "      <td>6</td>\n",
       "      <td>500</td>\n",
       "      <td>4.89</td>\n",
       "      <td>7.34</td>\n",
       "      <td>2</td>\n",
       "      <td>14.68</td>\n",
       "      <td>1.0</td>\n",
       "      <td>0.26</td>\n",
       "    </tr>\n",
       "    <tr>\n",
       "      <th>1</th>\n",
       "      <td>S15066200002</td>\n",
       "      <td>10/10/2013</td>\n",
       "      <td>2633</td>\n",
       "      <td>Hy-Vee #3 / BDI / Des Moines</td>\n",
       "      <td>3221 SE 14TH ST</td>\n",
       "      <td>DES MOINES</td>\n",
       "      <td>50320</td>\n",
       "      <td>POINT (-93.596754 41.554101)</td>\n",
       "      <td>77.0</td>\n",
       "      <td>Polk</td>\n",
       "      <td>...</td>\n",
       "      <td>904969</td>\n",
       "      <td>Sabe Premiom Sake Double Barrel</td>\n",
       "      <td>6</td>\n",
       "      <td>750</td>\n",
       "      <td>14.99</td>\n",
       "      <td>22.49</td>\n",
       "      <td>6</td>\n",
       "      <td>134.94</td>\n",
       "      <td>4.5</td>\n",
       "      <td>1.19</td>\n",
       "    </tr>\n",
       "    <tr>\n",
       "      <th>2</th>\n",
       "      <td>S19323500030</td>\n",
       "      <td>06/03/2014</td>\n",
       "      <td>2607</td>\n",
       "      <td>Hy-Vee Wine and Spirits / Shenandoah</td>\n",
       "      <td>520 SO FREMONT</td>\n",
       "      <td>SHENANDOAH</td>\n",
       "      <td>51601</td>\n",
       "      <td>POINT (-95.385111 40.761736)</td>\n",
       "      <td>73.0</td>\n",
       "      <td>Page</td>\n",
       "      <td>...</td>\n",
       "      <td>45277</td>\n",
       "      <td>Paramount White Rum</td>\n",
       "      <td>12</td>\n",
       "      <td>1000</td>\n",
       "      <td>4.34</td>\n",
       "      <td>6.51</td>\n",
       "      <td>12</td>\n",
       "      <td>78.12</td>\n",
       "      <td>12.0</td>\n",
       "      <td>3.17</td>\n",
       "    </tr>\n",
       "    <tr>\n",
       "      <th>3</th>\n",
       "      <td>S23334500013</td>\n",
       "      <td>01/06/2015</td>\n",
       "      <td>4810</td>\n",
       "      <td>Kum &amp; Go #518 / Ankeny</td>\n",
       "      <td>3603 NE OTTERVIEW CIRCLE</td>\n",
       "      <td>ANKENY</td>\n",
       "      <td>50021</td>\n",
       "      <td>POINT (-93.572458 41.760989)</td>\n",
       "      <td>77.0</td>\n",
       "      <td>Polk</td>\n",
       "      <td>...</td>\n",
       "      <td>43121</td>\n",
       "      <td>Bacardi Superior Rum Mini</td>\n",
       "      <td>12</td>\n",
       "      <td>500</td>\n",
       "      <td>5.54</td>\n",
       "      <td>8.31</td>\n",
       "      <td>1</td>\n",
       "      <td>8.31</td>\n",
       "      <td>0.5</td>\n",
       "      <td>0.13</td>\n",
       "    </tr>\n",
       "    <tr>\n",
       "      <th>4</th>\n",
       "      <td>S09742200010</td>\n",
       "      <td>12/27/2012</td>\n",
       "      <td>4025</td>\n",
       "      <td>Karam Kaur Khasriya Llc</td>\n",
       "      <td>702 13TH ST</td>\n",
       "      <td>BELLE PLAINE</td>\n",
       "      <td>52208</td>\n",
       "      <td>POINT (-92.277759 41.897052)</td>\n",
       "      <td>6.0</td>\n",
       "      <td>Benton</td>\n",
       "      <td>...</td>\n",
       "      <td>11298</td>\n",
       "      <td>Crown Royal Canadian Whisky</td>\n",
       "      <td>6</td>\n",
       "      <td>1750</td>\n",
       "      <td>31.00</td>\n",
       "      <td>46.49</td>\n",
       "      <td>2</td>\n",
       "      <td>92.98</td>\n",
       "      <td>3.5</td>\n",
       "      <td>0.92</td>\n",
       "    </tr>\n",
       "  </tbody>\n",
       "</table>\n",
       "<p>5 rows × 24 columns</p>\n",
       "</div>"
      ],
      "text/plain": [
       "  Invoice/Item Number        Date  Store Number  \\\n",
       "0        S24127700024  02/19/2015          3678   \n",
       "1        S15066200002  10/10/2013          2633   \n",
       "2        S19323500030  06/03/2014          2607   \n",
       "3        S23334500013  01/06/2015          4810   \n",
       "4        S09742200010  12/27/2012          4025   \n",
       "\n",
       "                             Store Name                   Address  \\\n",
       "0                       Smoke Shop, The           1918 SE 14TH ST   \n",
       "1          Hy-Vee #3 / BDI / Des Moines           3221 SE 14TH ST   \n",
       "2  Hy-Vee Wine and Spirits / Shenandoah            520 SO FREMONT   \n",
       "3                Kum & Go #518 / Ankeny  3603 NE OTTERVIEW CIRCLE   \n",
       "4               Karam Kaur Khasriya Llc               702 13TH ST   \n",
       "\n",
       "           City Zip Code                Store Location  County Number  County  \\\n",
       "0    DES MOINES    50320  POINT (-93.597011 41.570844)           77.0    Polk   \n",
       "1    DES MOINES    50320  POINT (-93.596754 41.554101)           77.0    Polk   \n",
       "2    SHENANDOAH    51601  POINT (-95.385111 40.761736)           73.0    Page   \n",
       "3        ANKENY    50021  POINT (-93.572458 41.760989)           77.0    Polk   \n",
       "4  BELLE PLAINE    52208  POINT (-92.277759 41.897052)            6.0  Benton   \n",
       "\n",
       "   ...  Item Number                 Item Description  Pack Bottle Volume (ml)  \\\n",
       "0  ...        41783     Uv Blue Raspberry Vodka Mini     6                500   \n",
       "1  ...       904969  Sabe Premiom Sake Double Barrel     6                750   \n",
       "2  ...        45277              Paramount White Rum    12               1000   \n",
       "3  ...        43121        Bacardi Superior Rum Mini    12                500   \n",
       "4  ...        11298      Crown Royal Canadian Whisky     6               1750   \n",
       "\n",
       "  State Bottle Cost State Bottle Retail  Bottles Sold  Sale (Dollars)  \\\n",
       "0              4.89                7.34             2           14.68   \n",
       "1             14.99               22.49             6          134.94   \n",
       "2              4.34                6.51            12           78.12   \n",
       "3              5.54                8.31             1            8.31   \n",
       "4             31.00               46.49             2           92.98   \n",
       "\n",
       "   Volume Sold (Liters)  Volume Sold (Gallons)  \n",
       "0                   1.0                   0.26  \n",
       "1                   4.5                   1.19  \n",
       "2                  12.0                   3.17  \n",
       "3                   0.5                   0.13  \n",
       "4                   3.5                   0.92  \n",
       "\n",
       "[5 rows x 24 columns]"
      ]
     },
     "execution_count": 5,
     "metadata": {},
     "output_type": "execute_result"
    }
   ],
   "source": [
    "ILS.head()"
   ]
  },
  {
   "cell_type": "code",
   "execution_count": 6,
   "id": "5d1cf88c-e1d3-4f45-87d8-f4b7b6d76503",
   "metadata": {},
   "outputs": [
    {
     "data": {
      "text/plain": [
       "Invoice/Item Number       object\n",
       "Date                      object\n",
       "Store Number               int64\n",
       "Store Name                object\n",
       "Address                   object\n",
       "City                      object\n",
       "Zip Code                  object\n",
       "Store Location            object\n",
       "County Number            float64\n",
       "County                    object\n",
       "Category                 float64\n",
       "Category Name             object\n",
       "Vendor Number            float64\n",
       "Vendor Name               object\n",
       "Item Number               object\n",
       "Item Description          object\n",
       "Pack                       int64\n",
       "Bottle Volume (ml)         int64\n",
       "State Bottle Cost        float64\n",
       "State Bottle Retail      float64\n",
       "Bottles Sold               int64\n",
       "Sale (Dollars)           float64\n",
       "Volume Sold (Liters)     float64\n",
       "Volume Sold (Gallons)    float64\n",
       "dtype: object"
      ]
     },
     "execution_count": 6,
     "metadata": {},
     "output_type": "execute_result"
    }
   ],
   "source": [
    "ILS.dtypes"
   ]
  },
  {
   "cell_type": "code",
   "execution_count": 7,
   "id": "958b500a-9e8c-48c1-8118-713b6a29617a",
   "metadata": {},
   "outputs": [
    {
     "data": {
      "text/plain": [
       "Invoice/Item Number           0\n",
       "Date                          0\n",
       "Store Number                  0\n",
       "Store Name                    0\n",
       "Address                    9149\n",
       "City                       9149\n",
       "Zip Code                   9149\n",
       "Store Location           170176\n",
       "County Number              9844\n",
       "County                     9844\n",
       "Category                   1829\n",
       "Category Name              2129\n",
       "Vendor Number                 0\n",
       "Vendor Name                   0\n",
       "Item Number                   0\n",
       "Item Description              0\n",
       "Pack                          0\n",
       "Bottle Volume (ml)            0\n",
       "State Bottle Cost             0\n",
       "State Bottle Retail           0\n",
       "Bottles Sold                  0\n",
       "Sale (Dollars)                0\n",
       "Volume Sold (Liters)          0\n",
       "Volume Sold (Gallons)         0\n",
       "Month                         0\n",
       "dtype: int64"
      ]
     },
     "execution_count": 7,
     "metadata": {},
     "output_type": "execute_result"
    }
   ],
   "source": [
    "#Convert Date to Date Format\n",
    "ILS['Date'] = pd.to_datetime(ILS['Date'])\n",
    "#Create new column with Month value \n",
    "ILS['Month']=  ILS['Date'].dt.month\n",
    "## Filter dataset to take only records for the month of December\n",
    "ILS_monthly = ILS.loc[ILS['Month'] == 12]\n",
    "#To check null values \n",
    "ILS_monthly.isnull().sum()"
   ]
  },
  {
   "cell_type": "code",
   "execution_count": 8,
   "id": "cb3d19ee-4cc1-4acb-bba5-881aa0bb1261",
   "metadata": {},
   "outputs": [
    {
     "data": {
      "text/plain": [
       "(1602032, 25)"
      ]
     },
     "execution_count": 8,
     "metadata": {},
     "output_type": "execute_result"
    }
   ],
   "source": [
    "#Dropping null values in the coloumn County\n",
    "ILS_monthly= ILS_monthly.dropna(subset=['County'])\n",
    "# Dropping null values in the Store Location\n",
    "ILS_monthly= ILS_monthly.dropna(subset=['Store Location'])\n",
    "#Checking shape of the Dataset\n",
    "ILS_monthly.shape"
   ]
  },
  {
   "cell_type": "code",
   "execution_count": 9,
   "id": "68298f13-2cdf-4deb-87a7-34754de9d63f",
   "metadata": {},
   "outputs": [],
   "source": [
    "# Counties with most sales\n",
    "ILS_monthly['County'].value_counts()[:15].index.tolist()\n",
    "# Convert County values to lower case \n",
    "ILS_monthly['County']= ILS_monthly['County'].str.lower()"
   ]
  },
  {
   "cell_type": "code",
   "execution_count": 10,
   "id": "983d01bd-6b33-468d-b435-8efada200f7e",
   "metadata": {},
   "outputs": [
    {
     "data": {
      "text/plain": [
       "(1600031, 25)"
      ]
     },
     "execution_count": 10,
     "metadata": {},
     "output_type": "execute_result"
    }
   ],
   "source": [
    "# Select duplicate rows except first occurrence based on County and Store Number columns\n",
    "ILS_cleaned = ILS_monthly[ILS_monthly.duplicated('County', keep = 'first')]\n",
    "ILS_cleaned = ILS_monthly[ILS_monthly.duplicated('Store Number', keep = 'first')]\n",
    "ILS_cleaned.shape"
   ]
  },
  {
   "cell_type": "code",
   "execution_count": 11,
   "id": "1d030722-22b9-4dcb-ba2f-1bfb65f77a2b",
   "metadata": {},
   "outputs": [
    {
     "data": {
      "text/html": [
       "<div>\n",
       "<style scoped>\n",
       "    .dataframe tbody tr th:only-of-type {\n",
       "        vertical-align: middle;\n",
       "    }\n",
       "\n",
       "    .dataframe tbody tr th {\n",
       "        vertical-align: top;\n",
       "    }\n",
       "\n",
       "    .dataframe thead th {\n",
       "        text-align: right;\n",
       "    }\n",
       "</style>\n",
       "<table border=\"1\" class=\"dataframe\">\n",
       "  <thead>\n",
       "    <tr style=\"text-align: right;\">\n",
       "      <th></th>\n",
       "      <th>Invoice/Item Number</th>\n",
       "      <th>Date</th>\n",
       "      <th>Store Number</th>\n",
       "      <th>Store Name</th>\n",
       "      <th>Address</th>\n",
       "      <th>City</th>\n",
       "      <th>Zip Code</th>\n",
       "      <th>Store Location</th>\n",
       "      <th>County Number</th>\n",
       "      <th>County</th>\n",
       "      <th>...</th>\n",
       "      <th>Item Description</th>\n",
       "      <th>Pack</th>\n",
       "      <th>Bottle Volume (ml)</th>\n",
       "      <th>State Bottle Cost</th>\n",
       "      <th>State Bottle Retail</th>\n",
       "      <th>Bottles Sold</th>\n",
       "      <th>Sale (Dollars)</th>\n",
       "      <th>Volume Sold (Liters)</th>\n",
       "      <th>Volume Sold (Gallons)</th>\n",
       "      <th>Month</th>\n",
       "    </tr>\n",
       "  </thead>\n",
       "  <tbody>\n",
       "    <tr>\n",
       "      <th>134</th>\n",
       "      <td>S09547600170</td>\n",
       "      <td>2012-12-18</td>\n",
       "      <td>2616</td>\n",
       "      <td>Hy-Vee Food and Drug / Clinton</td>\n",
       "      <td>901 SOUTH 4TH ST</td>\n",
       "      <td>CLINTON</td>\n",
       "      <td>52732</td>\n",
       "      <td>POINT (-90.193204 41.836268000000004)</td>\n",
       "      <td>23.0</td>\n",
       "      <td>clinton</td>\n",
       "      <td>...</td>\n",
       "      <td>Paramount White Rum</td>\n",
       "      <td>12</td>\n",
       "      <td>750</td>\n",
       "      <td>3.85</td>\n",
       "      <td>5.77</td>\n",
       "      <td>12</td>\n",
       "      <td>69.24</td>\n",
       "      <td>9.0</td>\n",
       "      <td>2.38</td>\n",
       "      <td>12</td>\n",
       "    </tr>\n",
       "    <tr>\n",
       "      <th>304</th>\n",
       "      <td>S09547600045</td>\n",
       "      <td>2012-12-18</td>\n",
       "      <td>2616</td>\n",
       "      <td>Hy-Vee Food and Drug / Clinton</td>\n",
       "      <td>901 SOUTH 4TH ST</td>\n",
       "      <td>CLINTON</td>\n",
       "      <td>52732</td>\n",
       "      <td>POINT (-90.193204 41.836268000000004)</td>\n",
       "      <td>23.0</td>\n",
       "      <td>clinton</td>\n",
       "      <td>...</td>\n",
       "      <td>Uv Ivory (vanilla) Vodka</td>\n",
       "      <td>12</td>\n",
       "      <td>750</td>\n",
       "      <td>6.25</td>\n",
       "      <td>9.49</td>\n",
       "      <td>12</td>\n",
       "      <td>113.88</td>\n",
       "      <td>9.0</td>\n",
       "      <td>2.38</td>\n",
       "      <td>12</td>\n",
       "    </tr>\n",
       "    <tr>\n",
       "      <th>357</th>\n",
       "      <td>S23198700061</td>\n",
       "      <td>2014-12-26</td>\n",
       "      <td>2590</td>\n",
       "      <td>Hy-Vee Food Store #5 / Cedar Rapids</td>\n",
       "      <td>3235 OAKLAND ROAD NE</td>\n",
       "      <td>CEDAR RAPIDS</td>\n",
       "      <td>52402</td>\n",
       "      <td>POINT (-91.658105 42.010971)</td>\n",
       "      <td>57.0</td>\n",
       "      <td>linn</td>\n",
       "      <td>...</td>\n",
       "      <td>Phillips Vodka Ez Pack</td>\n",
       "      <td>12</td>\n",
       "      <td>750</td>\n",
       "      <td>3.57</td>\n",
       "      <td>5.36</td>\n",
       "      <td>12</td>\n",
       "      <td>64.32</td>\n",
       "      <td>9.0</td>\n",
       "      <td>2.38</td>\n",
       "      <td>12</td>\n",
       "    </tr>\n",
       "    <tr>\n",
       "      <th>889</th>\n",
       "      <td>S09279900051</td>\n",
       "      <td>2012-12-04</td>\n",
       "      <td>2616</td>\n",
       "      <td>Hy-Vee Food and Drug / Clinton</td>\n",
       "      <td>901 SOUTH 4TH ST</td>\n",
       "      <td>CLINTON</td>\n",
       "      <td>52732</td>\n",
       "      <td>POINT (-90.193204 41.836268000000004)</td>\n",
       "      <td>23.0</td>\n",
       "      <td>clinton</td>\n",
       "      <td>...</td>\n",
       "      <td>Evan Williams Honey</td>\n",
       "      <td>12</td>\n",
       "      <td>750</td>\n",
       "      <td>7.94</td>\n",
       "      <td>11.91</td>\n",
       "      <td>12</td>\n",
       "      <td>142.92</td>\n",
       "      <td>9.0</td>\n",
       "      <td>2.38</td>\n",
       "      <td>12</td>\n",
       "    </tr>\n",
       "    <tr>\n",
       "      <th>1094</th>\n",
       "      <td>S22969700037</td>\n",
       "      <td>2014-12-16</td>\n",
       "      <td>2353</td>\n",
       "      <td>Cresco Liquor Store</td>\n",
       "      <td>708 2ND AVE SE</td>\n",
       "      <td>CRESCO</td>\n",
       "      <td>52136</td>\n",
       "      <td>POINT (-92.106529 43.371131)</td>\n",
       "      <td>45.0</td>\n",
       "      <td>howard</td>\n",
       "      <td>...</td>\n",
       "      <td>2 Gingers</td>\n",
       "      <td>12</td>\n",
       "      <td>750</td>\n",
       "      <td>12.07</td>\n",
       "      <td>18.11</td>\n",
       "      <td>2</td>\n",
       "      <td>36.22</td>\n",
       "      <td>1.5</td>\n",
       "      <td>0.40</td>\n",
       "      <td>12</td>\n",
       "    </tr>\n",
       "    <tr>\n",
       "      <th>1146</th>\n",
       "      <td>S16551300083</td>\n",
       "      <td>2013-12-27</td>\n",
       "      <td>2633</td>\n",
       "      <td>Hy-Vee #3 / BDI / Des Moines</td>\n",
       "      <td>3221 SE 14TH ST</td>\n",
       "      <td>DES MOINES</td>\n",
       "      <td>50320</td>\n",
       "      <td>POINT (-93.596754 41.554101)</td>\n",
       "      <td>77.0</td>\n",
       "      <td>polk</td>\n",
       "      <td>...</td>\n",
       "      <td>Fireball Cinnamon Whiskey</td>\n",
       "      <td>6</td>\n",
       "      <td>1750</td>\n",
       "      <td>15.33</td>\n",
       "      <td>23.00</td>\n",
       "      <td>360</td>\n",
       "      <td>8280.00</td>\n",
       "      <td>630.0</td>\n",
       "      <td>166.43</td>\n",
       "      <td>12</td>\n",
       "    </tr>\n",
       "    <tr>\n",
       "      <th>1162</th>\n",
       "      <td>S22735700015</td>\n",
       "      <td>2014-12-03</td>\n",
       "      <td>4349</td>\n",
       "      <td>Southside Food Mart</td>\n",
       "      <td>1101 ARMY POST RD</td>\n",
       "      <td>DES MOINES</td>\n",
       "      <td>50315</td>\n",
       "      <td>POINT (-93.628783 41.526511)</td>\n",
       "      <td>77.0</td>\n",
       "      <td>polk</td>\n",
       "      <td>...</td>\n",
       "      <td>Hennessy VS</td>\n",
       "      <td>24</td>\n",
       "      <td>200</td>\n",
       "      <td>5.49</td>\n",
       "      <td>8.24</td>\n",
       "      <td>24</td>\n",
       "      <td>197.76</td>\n",
       "      <td>4.8</td>\n",
       "      <td>1.27</td>\n",
       "      <td>12</td>\n",
       "    </tr>\n",
       "    <tr>\n",
       "      <th>1169</th>\n",
       "      <td>S22748700224</td>\n",
       "      <td>2014-12-04</td>\n",
       "      <td>2616</td>\n",
       "      <td>Hy-Vee Food and Drug / Clinton</td>\n",
       "      <td>901 SOUTH 4TH ST</td>\n",
       "      <td>CLINTON</td>\n",
       "      <td>52732</td>\n",
       "      <td>POINT (-90.193204 41.836268000000004)</td>\n",
       "      <td>23.0</td>\n",
       "      <td>clinton</td>\n",
       "      <td>...</td>\n",
       "      <td>Bowmore 12 Yr Single Malt Scotch</td>\n",
       "      <td>6</td>\n",
       "      <td>750</td>\n",
       "      <td>24.91</td>\n",
       "      <td>37.37</td>\n",
       "      <td>2</td>\n",
       "      <td>74.74</td>\n",
       "      <td>1.5</td>\n",
       "      <td>0.40</td>\n",
       "      <td>12</td>\n",
       "    </tr>\n",
       "    <tr>\n",
       "      <th>1363</th>\n",
       "      <td>S23188200088</td>\n",
       "      <td>2014-12-26</td>\n",
       "      <td>2647</td>\n",
       "      <td>Hy-Vee #7 / Cedar Rapids</td>\n",
       "      <td>5050 EDGEWOOD RD</td>\n",
       "      <td>CEDAR RAPIDS</td>\n",
       "      <td>52411</td>\n",
       "      <td>POINT (-91.701581 42.030129)</td>\n",
       "      <td>57.0</td>\n",
       "      <td>linn</td>\n",
       "      <td>...</td>\n",
       "      <td>Seagrams 7 Crown Bl Whiskey</td>\n",
       "      <td>6</td>\n",
       "      <td>1750</td>\n",
       "      <td>11.96</td>\n",
       "      <td>17.94</td>\n",
       "      <td>6</td>\n",
       "      <td>107.64</td>\n",
       "      <td>10.5</td>\n",
       "      <td>2.77</td>\n",
       "      <td>12</td>\n",
       "    </tr>\n",
       "    <tr>\n",
       "      <th>1459</th>\n",
       "      <td>S09293400128</td>\n",
       "      <td>2012-12-04</td>\n",
       "      <td>2613</td>\n",
       "      <td>Hy-Vee Food Store #1 / Council Bluff</td>\n",
       "      <td>2323 W BROADWAY</td>\n",
       "      <td>COUNCIL BLUFFS</td>\n",
       "      <td>51501</td>\n",
       "      <td>POINT (-95.879662 41.261925)</td>\n",
       "      <td>78.0</td>\n",
       "      <td>pottawattamie</td>\n",
       "      <td>...</td>\n",
       "      <td>Hawkeye Vodka 80 Prf Mini</td>\n",
       "      <td>12</td>\n",
       "      <td>500</td>\n",
       "      <td>3.73</td>\n",
       "      <td>5.59</td>\n",
       "      <td>1</td>\n",
       "      <td>5.59</td>\n",
       "      <td>0.5</td>\n",
       "      <td>0.13</td>\n",
       "      <td>12</td>\n",
       "    </tr>\n",
       "  </tbody>\n",
       "</table>\n",
       "<p>10 rows × 25 columns</p>\n",
       "</div>"
      ],
      "text/plain": [
       "     Invoice/Item Number       Date  Store Number  \\\n",
       "134         S09547600170 2012-12-18          2616   \n",
       "304         S09547600045 2012-12-18          2616   \n",
       "357         S23198700061 2014-12-26          2590   \n",
       "889         S09279900051 2012-12-04          2616   \n",
       "1094        S22969700037 2014-12-16          2353   \n",
       "1146        S16551300083 2013-12-27          2633   \n",
       "1162        S22735700015 2014-12-03          4349   \n",
       "1169        S22748700224 2014-12-04          2616   \n",
       "1363        S23188200088 2014-12-26          2647   \n",
       "1459        S09293400128 2012-12-04          2613   \n",
       "\n",
       "                                Store Name               Address  \\\n",
       "134         Hy-Vee Food and Drug / Clinton      901 SOUTH 4TH ST   \n",
       "304         Hy-Vee Food and Drug / Clinton      901 SOUTH 4TH ST   \n",
       "357    Hy-Vee Food Store #5 / Cedar Rapids  3235 OAKLAND ROAD NE   \n",
       "889         Hy-Vee Food and Drug / Clinton      901 SOUTH 4TH ST   \n",
       "1094                   Cresco Liquor Store        708 2ND AVE SE   \n",
       "1146          Hy-Vee #3 / BDI / Des Moines       3221 SE 14TH ST   \n",
       "1162                   Southside Food Mart     1101 ARMY POST RD   \n",
       "1169        Hy-Vee Food and Drug / Clinton      901 SOUTH 4TH ST   \n",
       "1363              Hy-Vee #7 / Cedar Rapids      5050 EDGEWOOD RD   \n",
       "1459  Hy-Vee Food Store #1 / Council Bluff       2323 W BROADWAY   \n",
       "\n",
       "                City Zip Code                         Store Location  \\\n",
       "134          CLINTON    52732  POINT (-90.193204 41.836268000000004)   \n",
       "304          CLINTON    52732  POINT (-90.193204 41.836268000000004)   \n",
       "357     CEDAR RAPIDS    52402           POINT (-91.658105 42.010971)   \n",
       "889          CLINTON    52732  POINT (-90.193204 41.836268000000004)   \n",
       "1094          CRESCO    52136           POINT (-92.106529 43.371131)   \n",
       "1146      DES MOINES    50320           POINT (-93.596754 41.554101)   \n",
       "1162      DES MOINES    50315           POINT (-93.628783 41.526511)   \n",
       "1169         CLINTON    52732  POINT (-90.193204 41.836268000000004)   \n",
       "1363    CEDAR RAPIDS    52411           POINT (-91.701581 42.030129)   \n",
       "1459  COUNCIL BLUFFS    51501           POINT (-95.879662 41.261925)   \n",
       "\n",
       "      County Number         County  ...                  Item Description  \\\n",
       "134            23.0        clinton  ...               Paramount White Rum   \n",
       "304            23.0        clinton  ...          Uv Ivory (vanilla) Vodka   \n",
       "357            57.0           linn  ...            Phillips Vodka Ez Pack   \n",
       "889            23.0        clinton  ...               Evan Williams Honey   \n",
       "1094           45.0         howard  ...                         2 Gingers   \n",
       "1146           77.0           polk  ...         Fireball Cinnamon Whiskey   \n",
       "1162           77.0           polk  ...                       Hennessy VS   \n",
       "1169           23.0        clinton  ...  Bowmore 12 Yr Single Malt Scotch   \n",
       "1363           57.0           linn  ...       Seagrams 7 Crown Bl Whiskey   \n",
       "1459           78.0  pottawattamie  ...         Hawkeye Vodka 80 Prf Mini   \n",
       "\n",
       "     Pack  Bottle Volume (ml) State Bottle Cost State Bottle Retail  \\\n",
       "134    12                 750              3.85                5.77   \n",
       "304    12                 750              6.25                9.49   \n",
       "357    12                 750              3.57                5.36   \n",
       "889    12                 750              7.94               11.91   \n",
       "1094   12                 750             12.07               18.11   \n",
       "1146    6                1750             15.33               23.00   \n",
       "1162   24                 200              5.49                8.24   \n",
       "1169    6                 750             24.91               37.37   \n",
       "1363    6                1750             11.96               17.94   \n",
       "1459   12                 500              3.73                5.59   \n",
       "\n",
       "     Bottles Sold  Sale (Dollars)  Volume Sold (Liters)  \\\n",
       "134            12           69.24                   9.0   \n",
       "304            12          113.88                   9.0   \n",
       "357            12           64.32                   9.0   \n",
       "889            12          142.92                   9.0   \n",
       "1094            2           36.22                   1.5   \n",
       "1146          360         8280.00                 630.0   \n",
       "1162           24          197.76                   4.8   \n",
       "1169            2           74.74                   1.5   \n",
       "1363            6          107.64                  10.5   \n",
       "1459            1            5.59                   0.5   \n",
       "\n",
       "      Volume Sold (Gallons)  Month  \n",
       "134                    2.38     12  \n",
       "304                    2.38     12  \n",
       "357                    2.38     12  \n",
       "889                    2.38     12  \n",
       "1094                   0.40     12  \n",
       "1146                 166.43     12  \n",
       "1162                   1.27     12  \n",
       "1169                   0.40     12  \n",
       "1363                   2.77     12  \n",
       "1459                   0.13     12  \n",
       "\n",
       "[10 rows x 25 columns]"
      ]
     },
     "execution_count": 11,
     "metadata": {},
     "output_type": "execute_result"
    }
   ],
   "source": [
    "ILS_cleaned.head(10)"
   ]
  },
  {
   "cell_type": "code",
   "execution_count": 12,
   "id": "7c62c5af-4d48-4276-a5ea-7dafb1142610",
   "metadata": {},
   "outputs": [
    {
     "name": "stderr",
     "output_type": "stream",
     "text": [
      "C:\\Users\\ruwin\\anaconda3\\lib\\site-packages\\seaborn\\_decorators.py:36: FutureWarning: Pass the following variable as a keyword arg: x. From version 0.12, the only valid positional argument will be `data`, and passing other arguments without an explicit keyword will result in an error or misinterpretation.\n",
      "  warnings.warn(\n"
     ]
    },
    {
     "data": {
      "text/plain": [
       "<AxesSubplot:xlabel='Bottles Sold', ylabel='count'>"
      ]
     },
     "execution_count": 12,
     "metadata": {},
     "output_type": "execute_result"
    },
    {
     "data": {
      "image/png": "[encoded data removed]",
      "text/plain": [
       "<Figure size 432x288 with 1 Axes>"
      ]
     },
     "metadata": {
      "needs_background": "light"
     },
     "output_type": "display_data"
    }
   ],
   "source": [
    "# Count plot for the Bottles Sold\n",
    "sb.countplot(ILS_cleaned['Bottles Sold'],)"
   ]
  },
  {
   "cell_type": "code",
   "execution_count": 13,
   "id": "0241ab70-fc19-42f9-a39a-9e71bbd799eb",
   "metadata": {},
   "outputs": [
    {
     "data": {
      "image/png": "[encoded data removed]",
      "text/plain": [
       "<Figure size 720x504 with 2 Axes>"
      ]
     },
     "metadata": {
      "needs_background": "light"
     },
     "output_type": "display_data"
    }
   ],
   "source": [
    "#Performing Correlarion matrix to see what all features affect on the outcome\n",
    "fig , ax = plt.subplots(figsize = (10,7))\n",
    "sb.heatmap(ILS_cleaned.corr() , annot = True , ax = ax)\n",
    "plt.show()"
   ]
  },
  {
   "cell_type": "code",
   "execution_count": 14,
   "id": "4737b8c7-1134-42dd-a1bc-330705fde35a",
   "metadata": {},
   "outputs": [
    {
     "data": {
      "text/plain": [
       "array([[<AxesSubplot:title={'center':'Date'}>,\n",
       "        <AxesSubplot:title={'center':'Store Number'}>,\n",
       "        <AxesSubplot:title={'center':'County Number'}>,\n",
       "        <AxesSubplot:title={'center':'Category'}>],\n",
       "       [<AxesSubplot:title={'center':'Vendor Number'}>,\n",
       "        <AxesSubplot:title={'center':'Pack'}>,\n",
       "        <AxesSubplot:title={'center':'Bottle Volume (ml)'}>,\n",
       "        <AxesSubplot:title={'center':'State Bottle Cost'}>],\n",
       "       [<AxesSubplot:title={'center':'State Bottle Retail'}>,\n",
       "        <AxesSubplot:title={'center':'Bottles Sold'}>,\n",
       "        <AxesSubplot:title={'center':'Sale (Dollars)'}>,\n",
       "        <AxesSubplot:title={'center':'Volume Sold (Liters)'}>],\n",
       "       [<AxesSubplot:title={'center':'Volume Sold (Gallons)'}>,\n",
       "        <AxesSubplot:title={'center':'Month'}>, <AxesSubplot:>,\n",
       "        <AxesSubplot:>]], dtype=object)"
      ]
     },
     "execution_count": 14,
     "metadata": {},
     "output_type": "execute_result"
    },
    {
     "data": {
      "image/png": "[encoded data removed]",
      "text/plain": [
       "<Figure size 720x720 with 16 Axes>"
      ]
     },
     "metadata": {
      "needs_background": "light"
     },
     "output_type": "display_data"
    }
   ],
   "source": [
    "## Hist Plot for dataset\n",
    "\n",
    "ILS_cleaned.hist(figsize=(10,10))"
   ]
  },
  {
   "cell_type": "code",
   "execution_count": 15,
   "id": "7e94127e-edab-425e-a19b-8fcdac905e7f",
   "metadata": {},
   "outputs": [
    {
     "data": {
      "image/png": "[encoded data removed]",
      "text/plain": [
       "<Figure size 432x288 with 15 Axes>"
      ]
     },
     "metadata": {
      "needs_background": "light"
     },
     "output_type": "display_data"
    }
   ],
   "source": [
    "# Cleaned Plot for numeric Variables\n",
    "ILS_cleaned.plot(subplots=True)\n",
    "\n",
    "plt.show()"
   ]
  },
  {
   "cell_type": "code",
   "execution_count": 16,
   "id": "fd519562-8e13-4949-b961-293be936ba51",
   "metadata": {},
   "outputs": [
    {
     "data": {
      "text/html": [
       "<div>\n",
       "<style scoped>\n",
       "    .dataframe tbody tr th:only-of-type {\n",
       "        vertical-align: middle;\n",
       "    }\n",
       "\n",
       "    .dataframe tbody tr th {\n",
       "        vertical-align: top;\n",
       "    }\n",
       "\n",
       "    .dataframe thead th {\n",
       "        text-align: right;\n",
       "    }\n",
       "</style>\n",
       "<table border=\"1\" class=\"dataframe\">\n",
       "  <thead>\n",
       "    <tr style=\"text-align: right;\">\n",
       "      <th></th>\n",
       "      <th>Date</th>\n",
       "      <th>Vendor Name</th>\n",
       "      <th>Item Description</th>\n",
       "      <th>Bottles Sold</th>\n",
       "      <th>Sale (Dollars)</th>\n",
       "      <th>Month</th>\n",
       "    </tr>\n",
       "  </thead>\n",
       "  <tbody>\n",
       "    <tr>\n",
       "      <th>0</th>\n",
       "      <td>2015-02-19</td>\n",
       "      <td>Phillips Beverage Company</td>\n",
       "      <td>Uv Blue Raspberry Vodka Mini</td>\n",
       "      <td>2</td>\n",
       "      <td>14.68</td>\n",
       "      <td>2</td>\n",
       "    </tr>\n",
       "    <tr>\n",
       "      <th>1</th>\n",
       "      <td>2013-10-10</td>\n",
       "      <td>MHW Ltd</td>\n",
       "      <td>Sabe Premiom Sake Double Barrel</td>\n",
       "      <td>6</td>\n",
       "      <td>134.94</td>\n",
       "      <td>10</td>\n",
       "    </tr>\n",
       "    <tr>\n",
       "      <th>2</th>\n",
       "      <td>2014-06-03</td>\n",
       "      <td>Luxco-St Louis</td>\n",
       "      <td>Paramount White Rum</td>\n",
       "      <td>12</td>\n",
       "      <td>78.12</td>\n",
       "      <td>6</td>\n",
       "    </tr>\n",
       "    <tr>\n",
       "      <th>3</th>\n",
       "      <td>2015-01-06</td>\n",
       "      <td>Bacardi U.S.A., Inc.</td>\n",
       "      <td>Bacardi Superior Rum Mini</td>\n",
       "      <td>1</td>\n",
       "      <td>8.31</td>\n",
       "      <td>1</td>\n",
       "    </tr>\n",
       "    <tr>\n",
       "      <th>4</th>\n",
       "      <td>2012-12-27</td>\n",
       "      <td>Diageo Americas</td>\n",
       "      <td>Crown Royal Canadian Whisky</td>\n",
       "      <td>2</td>\n",
       "      <td>92.98</td>\n",
       "      <td>12</td>\n",
       "    </tr>\n",
       "    <tr>\n",
       "      <th>...</th>\n",
       "      <td>...</td>\n",
       "      <td>...</td>\n",
       "      <td>...</td>\n",
       "      <td>...</td>\n",
       "      <td>...</td>\n",
       "      <td>...</td>\n",
       "    </tr>\n",
       "    <tr>\n",
       "      <th>19666758</th>\n",
       "      <td>2013-02-13</td>\n",
       "      <td>Sazerac Co., Inc.</td>\n",
       "      <td>Ice Box Mudslide</td>\n",
       "      <td>6</td>\n",
       "      <td>54.78</td>\n",
       "      <td>2</td>\n",
       "    </tr>\n",
       "    <tr>\n",
       "      <th>19666759</th>\n",
       "      <td>2015-01-21</td>\n",
       "      <td>Sazerac Co., Inc.</td>\n",
       "      <td>Fireball Cinnamon Whiskey</td>\n",
       "      <td>4</td>\n",
       "      <td>20.00</td>\n",
       "      <td>1</td>\n",
       "    </tr>\n",
       "    <tr>\n",
       "      <th>19666760</th>\n",
       "      <td>2015-11-24</td>\n",
       "      <td>Phillips Beverage Company</td>\n",
       "      <td>Uv Vodka</td>\n",
       "      <td>12</td>\n",
       "      <td>117.00</td>\n",
       "      <td>11</td>\n",
       "    </tr>\n",
       "    <tr>\n",
       "      <th>19666761</th>\n",
       "      <td>2012-04-05</td>\n",
       "      <td>Bacardi U.S.A., Inc.</td>\n",
       "      <td>Bacardi Superior Rum</td>\n",
       "      <td>6</td>\n",
       "      <td>132.00</td>\n",
       "      <td>4</td>\n",
       "    </tr>\n",
       "    <tr>\n",
       "      <th>19666762</th>\n",
       "      <td>2012-12-28</td>\n",
       "      <td>Sidney Frank Importing Co.</td>\n",
       "      <td>Jagermeister Liqueur</td>\n",
       "      <td>3</td>\n",
       "      <td>54.18</td>\n",
       "      <td>12</td>\n",
       "    </tr>\n",
       "  </tbody>\n",
       "</table>\n",
       "<p>19666763 rows × 6 columns</p>\n",
       "</div>"
      ],
      "text/plain": [
       "               Date                 Vendor Name  \\\n",
       "0        2015-02-19   Phillips Beverage Company   \n",
       "1        2013-10-10                     MHW Ltd   \n",
       "2        2014-06-03              Luxco-St Louis   \n",
       "3        2015-01-06        Bacardi U.S.A., Inc.   \n",
       "4        2012-12-27             Diageo Americas   \n",
       "...             ...                         ...   \n",
       "19666758 2013-02-13           Sazerac Co., Inc.   \n",
       "19666759 2015-01-21           Sazerac Co., Inc.   \n",
       "19666760 2015-11-24   Phillips Beverage Company   \n",
       "19666761 2012-04-05        Bacardi U.S.A., Inc.   \n",
       "19666762 2012-12-28  Sidney Frank Importing Co.   \n",
       "\n",
       "                         Item Description  Bottles Sold  Sale (Dollars)  Month  \n",
       "0            Uv Blue Raspberry Vodka Mini             2           14.68      2  \n",
       "1         Sabe Premiom Sake Double Barrel             6          134.94     10  \n",
       "2                     Paramount White Rum            12           78.12      6  \n",
       "3               Bacardi Superior Rum Mini             1            8.31      1  \n",
       "4             Crown Royal Canadian Whisky             2           92.98     12  \n",
       "...                                   ...           ...             ...    ...  \n",
       "19666758                 Ice Box Mudslide             6           54.78      2  \n",
       "19666759        Fireball Cinnamon Whiskey             4           20.00      1  \n",
       "19666760                         Uv Vodka            12          117.00     11  \n",
       "19666761             Bacardi Superior Rum             6          132.00      4  \n",
       "19666762             Jagermeister Liqueur             3           54.18     12  \n",
       "\n",
       "[19666763 rows x 6 columns]"
      ]
     },
     "execution_count": 16,
     "metadata": {},
     "output_type": "execute_result"
    }
   ],
   "source": [
    "ILS2 = ILS.copy()\n",
    "ILS2 = ILS2.drop(columns = ['Invoice/Item Number','Store Number', 'Store Name', 'Address', 'City', 'Zip Code', 'Store Location', 'County Number', 'County','Category', 'Category Name', 'Vendor Number', 'Item Number', 'Pack', 'Bottle Volume (ml)', 'State Bottle Cost', 'State Bottle Retail', 'Volume Sold (Liters)', 'Volume Sold (Gallons)'])\n",
    "ILS2"
   ]
  },
  {
   "cell_type": "code",
   "execution_count": 17,
   "id": "ec676cf3-5dd1-448c-bf48-183e81e7d7b9",
   "metadata": {},
   "outputs": [
    {
     "name": "stderr",
     "output_type": "stream",
     "text": [
      "C:\\Users\\ruwin\\AppData\\Local\\Temp/ipykernel_5772/2775448255.py:1: FutureWarning: The default value of regex will change from True to False in a future version. In addition, single character regular expressions will *not* be treated as literal strings when regex=True.\n",
      "  ILS2['Sale (Dollars)'] = ILS2['Sale (Dollars)'].astype(str).str.replace('$', ' ').astype(float)\n"
     ]
    },
    {
     "data": {
      "text/html": [
       "<div>\n",
       "<style scoped>\n",
       "    .dataframe tbody tr th:only-of-type {\n",
       "        vertical-align: middle;\n",
       "    }\n",
       "\n",
       "    .dataframe tbody tr th {\n",
       "        vertical-align: top;\n",
       "    }\n",
       "\n",
       "    .dataframe thead th {\n",
       "        text-align: right;\n",
       "    }\n",
       "</style>\n",
       "<table border=\"1\" class=\"dataframe\">\n",
       "  <thead>\n",
       "    <tr style=\"text-align: right;\">\n",
       "      <th></th>\n",
       "      <th>Date</th>\n",
       "      <th>Vendor Name</th>\n",
       "      <th>Item Description</th>\n",
       "      <th>Bottles Sold</th>\n",
       "      <th>Sale (Dollars)</th>\n",
       "      <th>Month</th>\n",
       "    </tr>\n",
       "  </thead>\n",
       "  <tbody>\n",
       "    <tr>\n",
       "      <th>0</th>\n",
       "      <td>2015-02-19</td>\n",
       "      <td>Phillips Beverage Company</td>\n",
       "      <td>Uv Blue Raspberry Vodka Mini</td>\n",
       "      <td>2</td>\n",
       "      <td>14.68</td>\n",
       "      <td>2</td>\n",
       "    </tr>\n",
       "    <tr>\n",
       "      <th>1</th>\n",
       "      <td>2013-10-10</td>\n",
       "      <td>MHW Ltd</td>\n",
       "      <td>Sabe Premiom Sake Double Barrel</td>\n",
       "      <td>6</td>\n",
       "      <td>134.94</td>\n",
       "      <td>10</td>\n",
       "    </tr>\n",
       "    <tr>\n",
       "      <th>2</th>\n",
       "      <td>2014-06-03</td>\n",
       "      <td>Luxco-St Louis</td>\n",
       "      <td>Paramount White Rum</td>\n",
       "      <td>12</td>\n",
       "      <td>78.12</td>\n",
       "      <td>6</td>\n",
       "    </tr>\n",
       "    <tr>\n",
       "      <th>3</th>\n",
       "      <td>2015-01-06</td>\n",
       "      <td>Bacardi U.S.A., Inc.</td>\n",
       "      <td>Bacardi Superior Rum Mini</td>\n",
       "      <td>1</td>\n",
       "      <td>8.31</td>\n",
       "      <td>1</td>\n",
       "    </tr>\n",
       "    <tr>\n",
       "      <th>4</th>\n",
       "      <td>2012-12-27</td>\n",
       "      <td>Diageo Americas</td>\n",
       "      <td>Crown Royal Canadian Whisky</td>\n",
       "      <td>2</td>\n",
       "      <td>92.98</td>\n",
       "      <td>12</td>\n",
       "    </tr>\n",
       "    <tr>\n",
       "      <th>...</th>\n",
       "      <td>...</td>\n",
       "      <td>...</td>\n",
       "      <td>...</td>\n",
       "      <td>...</td>\n",
       "      <td>...</td>\n",
       "      <td>...</td>\n",
       "    </tr>\n",
       "    <tr>\n",
       "      <th>19666758</th>\n",
       "      <td>2013-02-13</td>\n",
       "      <td>Sazerac Co., Inc.</td>\n",
       "      <td>Ice Box Mudslide</td>\n",
       "      <td>6</td>\n",
       "      <td>54.78</td>\n",
       "      <td>2</td>\n",
       "    </tr>\n",
       "    <tr>\n",
       "      <th>19666759</th>\n",
       "      <td>2015-01-21</td>\n",
       "      <td>Sazerac Co., Inc.</td>\n",
       "      <td>Fireball Cinnamon Whiskey</td>\n",
       "      <td>4</td>\n",
       "      <td>20.00</td>\n",
       "      <td>1</td>\n",
       "    </tr>\n",
       "    <tr>\n",
       "      <th>19666760</th>\n",
       "      <td>2015-11-24</td>\n",
       "      <td>Phillips Beverage Company</td>\n",
       "      <td>Uv Vodka</td>\n",
       "      <td>12</td>\n",
       "      <td>117.00</td>\n",
       "      <td>11</td>\n",
       "    </tr>\n",
       "    <tr>\n",
       "      <th>19666761</th>\n",
       "      <td>2012-04-05</td>\n",
       "      <td>Bacardi U.S.A., Inc.</td>\n",
       "      <td>Bacardi Superior Rum</td>\n",
       "      <td>6</td>\n",
       "      <td>132.00</td>\n",
       "      <td>4</td>\n",
       "    </tr>\n",
       "    <tr>\n",
       "      <th>19666762</th>\n",
       "      <td>2012-12-28</td>\n",
       "      <td>Sidney Frank Importing Co.</td>\n",
       "      <td>Jagermeister Liqueur</td>\n",
       "      <td>3</td>\n",
       "      <td>54.18</td>\n",
       "      <td>12</td>\n",
       "    </tr>\n",
       "  </tbody>\n",
       "</table>\n",
       "<p>19666763 rows × 6 columns</p>\n",
       "</div>"
      ],
      "text/plain": [
       "               Date                 Vendor Name  \\\n",
       "0        2015-02-19   Phillips Beverage Company   \n",
       "1        2013-10-10                     MHW Ltd   \n",
       "2        2014-06-03              Luxco-St Louis   \n",
       "3        2015-01-06        Bacardi U.S.A., Inc.   \n",
       "4        2012-12-27             Diageo Americas   \n",
       "...             ...                         ...   \n",
       "19666758 2013-02-13           Sazerac Co., Inc.   \n",
       "19666759 2015-01-21           Sazerac Co., Inc.   \n",
       "19666760 2015-11-24   Phillips Beverage Company   \n",
       "19666761 2012-04-05        Bacardi U.S.A., Inc.   \n",
       "19666762 2012-12-28  Sidney Frank Importing Co.   \n",
       "\n",
       "                         Item Description  Bottles Sold  Sale (Dollars)  Month  \n",
       "0            Uv Blue Raspberry Vodka Mini             2           14.68      2  \n",
       "1         Sabe Premiom Sake Double Barrel             6          134.94     10  \n",
       "2                     Paramount White Rum            12           78.12      6  \n",
       "3               Bacardi Superior Rum Mini             1            8.31      1  \n",
       "4             Crown Royal Canadian Whisky             2           92.98     12  \n",
       "...                                   ...           ...             ...    ...  \n",
       "19666758                 Ice Box Mudslide             6           54.78      2  \n",
       "19666759        Fireball Cinnamon Whiskey             4           20.00      1  \n",
       "19666760                         Uv Vodka            12          117.00     11  \n",
       "19666761             Bacardi Superior Rum             6          132.00      4  \n",
       "19666762             Jagermeister Liqueur             3           54.18     12  \n",
       "\n",
       "[19666763 rows x 6 columns]"
      ]
     },
     "execution_count": 17,
     "metadata": {},
     "output_type": "execute_result"
    }
   ],
   "source": [
    "ILS2['Sale (Dollars)'] = ILS2['Sale (Dollars)'].astype(str).str.replace('$', ' ').astype(float)\n",
    "ILS2"
   ]
  },
  {
   "cell_type": "code",
   "execution_count": 18,
   "id": "26bf78f6-3ed3-4624-80bb-62c8c9bee70f",
   "metadata": {},
   "outputs": [
    {
     "data": {
      "image/png": "[encoded data removed]",
      "text/plain": [
       "<Figure size 1440x720 with 1 Axes>"
      ]
     },
     "metadata": {
      "needs_background": "light"
     },
     "output_type": "display_data"
    }
   ],
   "source": [
    "ILS2.groupby('Vendor Name')['Bottles Sold'].sum().sort_values(ascending=False).head(10).plot(kind='barh', figsize=(20,10))\n",
    "plt.title('Bottles Sold')\n",
    "plt.show()"
   ]
  },
  {
   "cell_type": "code",
   "execution_count": 19,
   "id": "eadc22c3-7ec9-4887-ab24-0fb89ff1cb59",
   "metadata": {},
   "outputs": [
    {
     "data": {
      "image/png": "[encoded data removed]",
      "text/plain": [
       "<Figure size 1440x720 with 1 Axes>"
      ]
     },
     "metadata": {
      "needs_background": "light"
     },
     "output_type": "display_data"
    }
   ],
   "source": [
    "ILS2.groupby('Item Description')['Bottles Sold'].sum().sort_values(ascending=False).head(10).plot(kind='barh', figsize=(20,10))\n",
    "plt.title('Bottles Sold')\n",
    "plt.show()"
   ]
  },
  {
   "cell_type": "code",
   "execution_count": 20,
   "id": "ab0e4555-119a-4131-97b6-04ba356994f1",
   "metadata": {
    "scrolled": true
   },
   "outputs": [
    {
     "data": {
      "image/png": "[encoded data removed]",
      "text/plain": [
       "<Figure size 1440x720 with 1 Axes>"
      ]
     },
     "metadata": {
      "needs_background": "light"
     },
     "output_type": "display_data"
    }
   ],
   "source": [
    "ILS2.groupby('Item Description')['Sale (Dollars)'].sum().sort_values(ascending=False).head(10).plot(kind='barh', figsize=(20,10))\n",
    "plt.title('Sale (Dollars)')\n",
    "plt.show()"
   ]
  },
  {
   "cell_type": "code",
   "execution_count": 21,
   "id": "08b05eac-2ee9-447e-af33-dbb6ea5f96c7",
   "metadata": {},
   "outputs": [
    {
     "name": "stderr",
     "output_type": "stream",
     "text": [
      "C:\\Users\\ruwin\\AppData\\Local\\Temp/ipykernel_5772/1650728067.py:1: FutureWarning: The default value of regex will change from True to False in a future version.\n",
      "  ILS_cleaned['Invoice/Item Number'] = ILS_cleaned['Invoice/Item Number'].str.replace(r'\\D', '')\n",
      "C:\\Users\\ruwin\\AppData\\Local\\Temp/ipykernel_5772/1650728067.py:1: SettingWithCopyWarning: \n",
      "A value is trying to be set on a copy of a slice from a DataFrame.\n",
      "Try using .loc[row_indexer,col_indexer] = value instead\n",
      "\n",
      "See the caveats in the documentation: https://pandas.pydata.org/pandas-docs/stable/user_guide/indexing.html#returning-a-view-versus-a-copy\n",
      "  ILS_cleaned['Invoice/Item Number'] = ILS_cleaned['Invoice/Item Number'].str.replace(r'\\D', '')\n",
      "C:\\Users\\ruwin\\AppData\\Local\\Temp/ipykernel_5772/1650728067.py:2: SettingWithCopyWarning: \n",
      "A value is trying to be set on a copy of a slice from a DataFrame.\n",
      "Try using .loc[row_indexer,col_indexer] = value instead\n",
      "\n",
      "See the caveats in the documentation: https://pandas.pydata.org/pandas-docs/stable/user_guide/indexing.html#returning-a-view-versus-a-copy\n",
      "  ILS_cleaned['Zip Code'] = ILS_cleaned['Zip Code'].str.replace(r'-', '')\n"
     ]
    }
   ],
   "source": [
    "ILS_cleaned['Invoice/Item Number'] = ILS_cleaned['Invoice/Item Number'].str.replace(r'\\D', '')\n",
    "ILS_cleaned['Zip Code'] = ILS_cleaned['Zip Code'].str.replace(r'-', '')"
   ]
  },
  {
   "cell_type": "code",
   "execution_count": 22,
   "id": "30914167-443a-456e-881a-a82a2a540999",
   "metadata": {},
   "outputs": [
    {
     "name": "stderr",
     "output_type": "stream",
     "text": [
      "C:\\Users\\ruwin\\AppData\\Local\\Temp/ipykernel_5772/1133774373.py:2: SettingWithCopyWarning: \n",
      "A value is trying to be set on a copy of a slice from a DataFrame.\n",
      "Try using .loc[row_indexer,col_indexer] = value instead\n",
      "\n",
      "See the caveats in the documentation: https://pandas.pydata.org/pandas-docs/stable/user_guide/indexing.html#returning-a-view-versus-a-copy\n",
      "  ILS_cleaned[\"Bottles_Sold\"] = ILS_cleaned[\"Bottles Sold\"]\n",
      "C:\\Users\\ruwin\\AppData\\Local\\Temp/ipykernel_5772/1133774373.py:4: FutureWarning: In a future version of pandas all arguments of DataFrame.drop except for the argument 'labels' will be keyword-only.\n",
      "  ILS_cleaned.drop(ILS_cleaned.columns.difference(['Invoice/Item Number','Store Number','Zip Code','County Number', 'Bottles_Sold','Volume Sold (Liters)']), 1, inplace=True)\n",
      "C:\\Users\\ruwin\\AppData\\Local\\Temp/ipykernel_5772/1133774373.py:4: SettingWithCopyWarning: \n",
      "A value is trying to be set on a copy of a slice from a DataFrame\n",
      "\n",
      "See the caveats in the documentation: https://pandas.pydata.org/pandas-docs/stable/user_guide/indexing.html#returning-a-view-versus-a-copy\n",
      "  ILS_cleaned.drop(ILS_cleaned.columns.difference(['Invoice/Item Number','Store Number','Zip Code','County Number', 'Bottles_Sold','Volume Sold (Liters)']), 1, inplace=True)\n",
      "C:\\Users\\ruwin\\AppData\\Local\\Temp/ipykernel_5772/1133774373.py:5: SettingWithCopyWarning: \n",
      "A value is trying to be set on a copy of a slice from a DataFrame\n",
      "\n",
      "See the caveats in the documentation: https://pandas.pydata.org/pandas-docs/stable/user_guide/indexing.html#returning-a-view-versus-a-copy\n",
      "  ILS_cleaned.dropna(inplace=True)\n"
     ]
    }
   ],
   "source": [
    "## Here we cleaned a few unwanted features from the datatset.\n",
    "\n",
    "# ILS_cleaned.drop(\"Date\", axis=1,inplace= True)\n",
    "ILS_cleaned[\"Bottles_Sold\"] = ILS_cleaned[\"Bottles Sold\"]\n",
    "ILS_cleaned.drop(\"Bottles Sold\", axis=1)\n",
    "ILS_cleaned.drop(ILS_cleaned.columns.difference(['Invoice/Item Number','Store Number','Zip Code','County Number', 'Bottles_Sold','Volume Sold (Liters)']), 1, inplace=True)\n",
    "ILS_cleaned.dropna(inplace=True)\n",
    "X = ILS_cleaned.drop(\"Bottles_Sold\", axis=1)\n",
    "y = ILS_cleaned.Bottles_Sold"
   ]
  },
  {
   "cell_type": "code",
   "execution_count": 23,
   "id": "adb5ad9d-5598-4ab9-97b3-6fe832004ba8",
   "metadata": {},
   "outputs": [],
   "source": [
    "# The datasset is spilt into training and test \n",
    "X_train, X_test, y_train, y_test = train_test_split(X, y, test_size=0.33, random_state=0)"
   ]
  },
  {
   "cell_type": "code",
   "execution_count": 24,
   "id": "97598efc-354a-4bd4-a384-625ae7a51fb4",
   "metadata": {},
   "outputs": [],
   "source": [
    "#Defining Random Forest Regressor Model\n",
    "\n",
    "model = HyperoptEstimator(\n",
    "    regressor=random_forest_regression('reg')\n",
    "    , preprocessing=any_preprocessing('pre')\n",
    "    , algo=tpe.suggest\n",
    "    , max_evals=50\n",
    "    , trial_timeout=300\n",
    ") "
   ]
  },
  {
   "cell_type": "code",
   "execution_count": 25,
   "id": "7ca78c18-cd93-427c-bc62-961e7a80416c",
   "metadata": {},
   "outputs": [
    {
     "name": "stdout",
     "output_type": "stream",
     "text": [
      "100%|██████████| 1/1 [01:00<00:00, 60.88s/trial, best loss: 0.6822815395552456]\n",
      "100%|██████████| 2/2 [01:48<00:00, 108.49s/trial, best loss: 0.5356492851820946]\n",
      "100%|██████████| 3/3 [00:36<00:00, 36.28s/trial, best loss: 0.5356492851820946]\n",
      "100%|██████████| 4/4 [00:09<00:00,  9.92s/trial, best loss: 0.5356492851820946]\n",
      "100%|██████████| 5/5 [00:04<00:00,  4.67s/trial, best loss: 0.5356492851820946]\n",
      "100%|██████████| 6/6 [01:01<00:00, 61.39s/trial, best loss: 0.5356492851820946]\n",
      "100%|██████████| 7/7 [00:13<00:00, 13.27s/trial, best loss: 0.5356492851820946]\n",
      "100%|██████████| 8/8 [05:02<00:00, 302.38s/trial, best loss: 0.5356492851820946]\n",
      "100%|██████████| 9/9 [05:02<00:00, 302.55s/trial, best loss: 0.5356492851820946]\n",
      "100%|██████████| 10/10 [00:36<00:00, 36.34s/trial, best loss: 0.5356492851820946]\n",
      "100%|██████████| 11/11 [00:27<00:00, 27.63s/trial, best loss: 0.5356492851820946]\n",
      "100%|██████████| 12/12 [00:37<00:00, 37.23s/trial, best loss: 0.5356492851820946]\n",
      "100%|██████████| 13/13 [01:36<00:00, 96.28s/trial, best loss: 0.5356492851820946]\n",
      "100%|██████████| 14/14 [00:36<00:00, 36.46s/trial, best loss: 0.5356492851820946]\n",
      "100%|██████████| 15/15 [05:02<00:00, 302.69s/trial, best loss: 0.5356492851820946]\n",
      "100%|██████████| 16/16 [05:02<00:00, 302.77s/trial, best loss: 0.5356492851820946]\n",
      "100%|██████████| 17/17 [00:13<00:00, 13.03s/trial, best loss: 0.5356492851820946]\n",
      "100%|██████████| 18/18 [00:18<00:00, 18.23s/trial, best loss: 0.5356492851820946]\n",
      "100%|██████████| 19/19 [01:21<00:00, 81.88s/trial, best loss: 0.5356492851820946]\n",
      "100%|██████████| 20/20 [00:24<00:00, 24.25s/trial, best loss: 0.5356492851820946]\n",
      "100%|██████████| 21/21 [05:02<00:00, 302.47s/trial, best loss: 0.5356492851820946]\n",
      "100%|██████████| 22/22 [02:02<00:00, 122.30s/trial, best loss: 0.5322743196137533]\n",
      "100%|██████████| 23/23 [00:22<00:00, 22.22s/trial, best loss: 0.5322743196137533]\n",
      "100%|██████████| 24/24 [00:38<00:00, 38.19s/trial, best loss: 0.505969317365004]\n",
      "100%|██████████| 25/25 [00:41<00:00, 41.99s/trial, best loss: 0.505969317365004]\n",
      "100%|██████████| 26/26 [00:19<00:00, 19.89s/trial, best loss: 0.505969317365004]\n",
      "100%|██████████| 27/27 [00:34<00:00, 34.40s/trial, best loss: 0.505969317365004]\n",
      "100%|██████████| 28/28 [00:37<00:00, 37.98s/trial, best loss: 0.505969317365004]\n",
      "100%|██████████| 29/29 [00:16<00:00, 16.83s/trial, best loss: 0.505969317365004]\n",
      "100%|██████████| 30/30 [00:04<00:00,  4.86s/trial, best loss: 0.505969317365004]\n",
      "100%|██████████| 31/31 [05:02<00:00, 302.39s/trial, best loss: 0.505969317365004]\n",
      "100%|██████████| 32/32 [00:17<00:00, 17.02s/trial, best loss: 0.505969317365004]\n",
      "100%|██████████| 33/33 [01:53<00:00, 113.44s/trial, best loss: 0.505969317365004]\n",
      "100%|██████████| 34/34 [00:45<00:00, 45.12s/trial, best loss: 0.4794295506743762]\n",
      "100%|██████████| 35/35 [00:05<00:00,  5.01s/trial, best loss: 0.4794295506743762]\n",
      "100%|██████████| 36/36 [00:41<00:00, 41.48s/trial, best loss: 0.4794295506743762]\n",
      "100%|██████████| 37/37 [00:39<00:00, 39.78s/trial, best loss: 0.4794295506743762]\n",
      "100%|██████████| 38/38 [05:02<00:00, 302.48s/trial, best loss: 0.4794295506743762]\n",
      "100%|██████████| 39/39 [02:20<00:00, 140.99s/trial, best loss: 0.4792972210626698]\n",
      "100%|██████████| 40/40 [01:54<00:00, 114.12s/trial, best loss: 0.4792972210626698]\n",
      "100%|██████████| 41/41 [01:33<00:00, 93.28s/trial, best loss: 0.4792972210626698]\n",
      "100%|██████████| 42/42 [01:47<00:00, 107.36s/trial, best loss: 0.4792972210626698]\n",
      "100%|██████████| 43/43 [05:02<00:00, 302.45s/trial, best loss: 0.4792972210626698]\n",
      "100%|██████████| 44/44 [00:31<00:00, 31.72s/trial, best loss: 0.4792972210626698]\n",
      "100%|██████████| 45/45 [00:13<00:00, 13.62s/trial, best loss: 0.4792972210626698]\n",
      "100%|██████████| 46/46 [02:32<00:00, 152.47s/trial, best loss: 0.4792972210626698]\n",
      "100%|██████████| 47/47 [05:02<00:00, 302.36s/trial, best loss: 0.4792972210626698]\n",
      "100%|██████████| 48/48 [01:37<00:00, 97.56s/trial, best loss: 0.4792972210626698]\n",
      "100%|██████████| 49/49 [00:25<00:00, 25.05s/trial, best loss: 0.4792972210626698]\n",
      "100%|██████████| 50/50 [00:30<00:00, 30.79s/trial, best loss: 0.4792972210626698]\n"
     ]
    },
    {
     "name": "stderr",
     "output_type": "stream",
     "text": [
      "C:\\Users\\ruwin\\anaconda3\\lib\\site-packages\\sklearn\\ensemble\\_forest.py:396: FutureWarning: Criterion 'mse' was deprecated in v1.0 and will be removed in version 1.2. Use `criterion='squared_error'` which is equivalent.\n",
      "  warn(\n"
     ]
    }
   ],
   "source": [
    "#perform the search\n",
    "model.fit(X_train.values, y_train.values)"
   ]
  },
  {
   "cell_type": "code",
   "execution_count": 26,
   "id": "6427ee9d-5763-4cda-b186-4d43598a2597",
   "metadata": {},
   "outputs": [
    {
     "name": "stdout",
     "output_type": "stream",
     "text": [
      "-51.855482324244385\n"
     ]
    }
   ],
   "source": [
    "# Print R2 value\n",
    "print(model.score(X_test, y_test))"
   ]
  },
  {
   "cell_type": "code",
   "execution_count": 27,
   "id": "546f9a01-8586-492e-af14-7c585fb34e95",
   "metadata": {},
   "outputs": [
    {
     "name": "stdout",
     "output_type": "stream",
     "text": [
      "{'learner': RandomForestRegressor(bootstrap=False, criterion='mse', max_features=None,\n",
      "                      n_estimators=68, n_jobs=1, random_state=4, verbose=False), 'preprocs': (MinMaxScaler(feature_range=(-1.0, 1.0)),), 'ex_preprocs': ()}\n"
     ]
    }
   ],
   "source": [
    "#Identify Best Hyperparameters \n",
    "print(model.best_model())"
   ]
  },
  {
   "cell_type": "code",
   "execution_count": 29,
   "id": "bf8aeaed-4e7c-4539-b71b-22f3a9ed7a2f",
   "metadata": {},
   "outputs": [
    {
     "data": {
      "text/plain": [
       "['RF_model.pkl']"
      ]
     },
     "execution_count": 29,
     "metadata": {},
     "output_type": "execute_result"
    }
   ],
   "source": [
    "# Dump to PKL file \n",
    "joblib.dump(model, 'RF_model.pkl')"
   ]
  },
  {
   "cell_type": "code",
   "execution_count": 30,
   "id": "5e32976a-7f68-45e3-943c-5e7c5da9b18a",
   "metadata": {},
   "outputs": [],
   "source": [
    "# Create XGBoost Model\n",
    "estim = HyperoptEstimator(regressor=xgboost_regression('xgreg'),\n",
    "                          preprocessing=any_preprocessing('pre'),\n",
    "                          algo=tpe.suggest,\n",
    "                          max_evals=50,\n",
    "                          trial_timeout=300)\n",
    "\n",
    "\n"
   ]
  },
  {
   "cell_type": "code",
   "execution_count": 31,
   "id": "d468ed20-e5c3-477b-bfa1-71471fdf6dec",
   "metadata": {},
   "outputs": [
    {
     "name": "stdout",
     "output_type": "stream",
     "text": [
      "100%|██████████| 1/1 [04:39<00:00, 279.70s/trial, best loss: 0.5784391158608156]\n",
      "100%|██████████| 2/2 [04:45<00:00, 285.15s/trial, best loss: 0.5219897376307769]\n",
      "100%|██████████| 3/3 [01:23<00:00, 83.14s/trial, best loss: 0.5219897376307769]\n",
      "100%|██████████| 4/4 [01:15<00:00, 75.88s/trial, best loss: 0.5219897376307769]\n",
      "100%|██████████| 5/5 [01:30<00:00, 90.14s/trial, best loss: 0.5219897376307769]\n",
      "100%|██████████| 6/6 [04:43<00:00, 283.21s/trial, best loss: 0.5014174966924293]\n",
      "100%|██████████| 7/7 [05:02<00:00, 302.51s/trial, best loss: 0.5014174966924293]\n",
      "100%|██████████| 8/8 [05:02<00:00, 302.34s/trial, best loss: 0.5014174966924293]\n",
      "100%|██████████| 9/9 [05:02<00:00, 302.42s/trial, best loss: 0.5014174966924293]\n",
      "100%|██████████| 10/10 [05:02<00:00, 302.44s/trial, best loss: 0.5014174966924293]\n",
      "100%|██████████| 11/11 [05:02<00:00, 302.39s/trial, best loss: 0.5014174966924293]\n",
      "100%|██████████| 12/12 [05:02<00:00, 302.40s/trial, best loss: 0.5014174966924293]\n",
      "100%|██████████| 13/13 [05:02<00:00, 302.28s/trial, best loss: 0.5014174966924293]\n",
      "100%|██████████| 14/14 [02:47<00:00, 167.58s/trial, best loss: 0.5014174966924293]\n",
      "100%|██████████| 15/15 [02:20<00:00, 140.41s/trial, best loss: 0.5014174966924293]\n",
      "100%|██████████| 16/16 [05:02<00:00, 302.46s/trial, best loss: 0.5014174966924293]\n",
      "100%|██████████| 17/17 [05:02<00:00, 302.47s/trial, best loss: 0.5014174966924293]\n",
      "100%|██████████| 18/18 [05:02<00:00, 302.51s/trial, best loss: 0.5014174966924293]\n",
      "100%|██████████| 19/19 [05:02<00:00, 302.58s/trial, best loss: 0.5014174966924293]\n",
      "100%|██████████| 20/20 [05:02<00:00, 302.47s/trial, best loss: 0.5014174966924293]\n",
      "100%|██████████| 21/21 [00:34<00:00, 34.68s/trial, best loss: 0.5014174966924293]\n",
      "100%|██████████| 22/22 [00:34<00:00, 34.37s/trial, best loss: 0.5014174966924293]\n",
      "100%|██████████| 23/23 [00:31<00:00, 31.27s/trial, best loss: 0.5014174966924293]\n",
      "100%|██████████| 24/24 [01:35<00:00, 95.04s/trial, best loss: 0.5014174966924293]\n",
      "100%|██████████| 25/25 [05:02<00:00, 302.49s/trial, best loss: 0.5014174966924293]\n",
      "100%|██████████| 26/26 [01:44<00:00, 104.86s/trial, best loss: 0.5014174966924293]\n",
      "100%|██████████| 27/27 [02:10<00:00, 130.73s/trial, best loss: 0.5014174966924293]\n",
      "100%|██████████| 28/28 [01:24<00:00, 84.77s/trial, best loss: 0.5014174966924293]\n",
      "100%|██████████| 29/29 [05:02<00:00, 302.44s/trial, best loss: 0.5014174966924293]\n",
      "100%|██████████| 30/30 [03:08<00:00, 188.13s/trial, best loss: 0.4832427730122021]\n",
      "100%|██████████| 31/31 [03:44<00:00, 224.03s/trial, best loss: 0.4832427730122021]\n",
      "100%|██████████| 32/32 [01:14<00:00, 74.11s/trial, best loss: 0.4832427730122021]\n",
      "100%|██████████| 33/33 [02:51<00:00, 171.61s/trial, best loss: 0.4832427730122021]\n",
      "100%|██████████| 34/34 [04:10<00:00, 250.64s/trial, best loss: 0.4832427730122021]\n",
      "100%|██████████| 35/35 [02:40<00:00, 160.89s/trial, best loss: 0.4832427730122021]\n",
      "100%|██████████| 36/36 [04:35<00:00, 275.40s/trial, best loss: 0.4832427730122021]\n",
      "100%|██████████| 37/37 [05:02<00:00, 302.48s/trial, best loss: 0.4832427730122021]\n",
      "100%|██████████| 38/38 [05:02<00:00, 302.51s/trial, best loss: 0.4832427730122021]\n",
      "100%|██████████| 39/39 [00:33<00:00, 33.79s/trial, best loss: 0.4832427730122021]\n",
      "100%|██████████| 40/40 [04:11<00:00, 251.74s/trial, best loss: 0.4832427730122021]\n",
      "100%|██████████| 41/41 [02:48<00:00, 168.99s/trial, best loss: 0.4832427730122021]\n",
      "100%|██████████| 42/42 [04:20<00:00, 260.69s/trial, best loss: 0.4817495698839831]\n",
      "100%|██████████| 43/43 [05:02<00:00, 302.47s/trial, best loss: 0.4817495698839831]\n",
      "100%|██████████| 44/44 [01:02<00:00, 62.52s/trial, best loss: 0.4817495698839831]\n",
      "100%|██████████| 45/45 [04:13<00:00, 253.90s/trial, best loss: 0.4817495698839831]\n",
      "100%|██████████| 46/46 [01:54<00:00, 114.24s/trial, best loss: 0.4817495698839831]\n",
      "100%|██████████| 47/47 [03:54<00:00, 234.29s/trial, best loss: 0.4817495698839831]\n",
      "100%|██████████| 48/48 [05:02<00:00, 302.46s/trial, best loss: 0.4817495698839831]\n",
      "100%|██████████| 49/49 [05:02<00:00, 302.55s/trial, best loss: 0.4817495698839831]\n",
      "100%|██████████| 50/50 [04:57<00:00, 297.67s/trial, best loss: 0.4817495698839831]\n",
      "[03:41:11] WARNING: C:/Users/Administrator/workspace/xgboost-win64_release_1.5.0/src/objective/regression_obj.cu:188: reg:linear is now deprecated in favor of reg:squarederror.\n"
     ]
    }
   ],
   "source": [
    "estim.fit(X_train.values, y_train.values)"
   ]
  },
  {
   "cell_type": "code",
   "execution_count": 32,
   "id": "d2fc4fbb-cd4b-4102-88e7-106a9d0dd2db",
   "metadata": {},
   "outputs": [
    {
     "name": "stdout",
     "output_type": "stream",
     "text": [
      "0.9024392409722292\n"
     ]
    }
   ],
   "source": [
    "print(estim.score(X_test, y_test))"
   ]
  },
  {
   "cell_type": "code",
   "execution_count": 33,
   "id": "89c64ea5-f801-437f-a27c-ddea14ac412b",
   "metadata": {},
   "outputs": [
    {
     "name": "stdout",
     "output_type": "stream",
     "text": [
      "{'learner': XGBRegressor(base_score=0.5, booster='gbtree',\n",
      "             colsample_bylevel=0.6108749864742665, colsample_bynode=1,\n",
      "             colsample_bytree=0.5125857952350454, enable_categorical=False,\n",
      "             gamma=0.015177105956199704, gpu_id=-1, importance_type=None,\n",
      "             interaction_constraints='', learning_rate=0.1393110385884146,\n",
      "             max_delta_step=0, max_depth=9, min_child_weight=2, missing=nan,\n",
      "             monotone_constraints='()', n_estimators=2000, n_jobs=16,\n",
      "             num_parallel_tree=1, objective='reg:linear', predictor='auto',\n",
      "             random_state=1, reg_alpha=0.0011669673381968124,\n",
      "             reg_lambda=2.67696635086539, scale_pos_weight=1, seed=1,\n",
      "             subsample=0.7393979571256765, tree_method='exact',\n",
      "             validate_parameters=1, verbosity=None), 'preprocs': (), 'ex_preprocs': ()}\n"
     ]
    }
   ],
   "source": [
    "## Best hyperparameters\n",
    "print(estim.best_model())"
   ]
  },
  {
   "cell_type": "code",
   "execution_count": 34,
   "id": "19a06def-d3e1-44ab-84cd-9a34239af682",
   "metadata": {},
   "outputs": [
    {
     "data": {
      "text/plain": [
       "['XGB_model.pkl']"
      ]
     },
     "execution_count": 34,
     "metadata": {},
     "output_type": "execute_result"
    }
   ],
   "source": [
    "joblib.dump(estim, 'XGB_model.pkl')"
   ]
  },
  {
   "cell_type": "code",
   "execution_count": 44,
   "id": "2a32c2bf-8a9d-420b-a77d-46de7d7e70c8",
   "metadata": {},
   "outputs": [],
   "source": [
    "# Creating KNN Model\n",
    "from sklearn.metrics import mean_absolute_error\n",
    "knnmodel = HyperoptEstimator(regressor=knn_regression('knnreg'),\n",
    "                          preprocessing=any_preprocessing('my_pre'),\n",
    "                          algo=tpe.suggest,\n",
    "                          max_evals=50,\n",
    "                          trial_timeout=300,\n",
    "                          loss_fn=mean_absolute_error)\n"
   ]
  },
  {
   "cell_type": "code",
   "execution_count": 45,
   "id": "072a0e82-bada-4e5f-837d-8ca486964bde",
   "metadata": {
    "scrolled": true
   },
   "outputs": [
    {
     "name": "stdout",
     "output_type": "stream",
     "text": [
      "100%|██████████| 1/1 [00:05<00:00,  5.24s/trial, best loss: 4.26428960632503]\n",
      "100%|██████████| 2/2 [00:05<00:00,  5.26s/trial, best loss: 2.40998371973831]\n",
      "100%|██████████| 3/3 [00:05<00:00,  5.52s/trial, best loss: 2.40998371973831]\n",
      "100%|██████████| 4/4 [00:14<00:00, 14.20s/trial, best loss: 2.330660587088653]\n",
      "100%|██████████| 5/5 [00:06<00:00,  6.92s/trial, best loss: 2.330660587088653]\n",
      "100%|██████████| 6/6 [00:07<00:00,  7.22s/trial, best loss: 2.330660587088653]\n",
      "100%|██████████| 7/7 [00:05<00:00,  5.96s/trial, best loss: 2.330660587088653]\n",
      "100%|██████████| 8/8 [00:05<00:00,  5.63s/trial, best loss: 1.4870586993879829]\n",
      "100%|██████████| 9/9 [00:05<00:00,  5.28s/trial, best loss: 1.4870586993879829]\n",
      "100%|██████████| 10/10 [00:05<00:00,  5.76s/trial, best loss: 1.4870586993879829]\n",
      "100%|██████████| 11/11 [00:09<00:00,  9.01s/trial, best loss: 1.4870586993879829]\n",
      "100%|██████████| 12/12 [00:05<00:00,  5.22s/trial, best loss: 1.4870586993879829]\n",
      "100%|██████████| 13/13 [00:13<00:00, 13.49s/trial, best loss: 1.4870586993879829]\n",
      "100%|██████████| 14/14 [00:08<00:00,  8.88s/trial, best loss: 1.4870586993879829]\n",
      "100%|██████████| 15/15 [00:05<00:00,  5.90s/trial, best loss: 1.4870586993879829]\n",
      "100%|██████████| 16/16 [00:05<00:00,  5.56s/trial, best loss: 1.4870586993879829]\n",
      "100%|██████████| 17/17 [00:05<00:00,  5.52s/trial, best loss: 1.4870586993879829]\n",
      "100%|██████████| 18/18 [00:06<00:00,  6.25s/trial, best loss: 1.4870586993879829]\n",
      "100%|██████████| 19/19 [00:07<00:00,  7.88s/trial, best loss: 1.4870586993879829]\n",
      "100%|██████████| 20/20 [00:09<00:00,  9.74s/trial, best loss: 1.4870586993879829]\n",
      "100%|██████████| 21/21 [00:05<00:00,  5.45s/trial, best loss: 1.4870586993879829]\n",
      "100%|██████████| 22/22 [00:05<00:00,  5.73s/trial, best loss: 1.4870586993879829]\n",
      "100%|██████████| 23/23 [00:05<00:00,  5.52s/trial, best loss: 1.4870586993879829]\n",
      "100%|██████████| 24/24 [00:05<00:00,  5.23s/trial, best loss: 1.4870586993879829]\n",
      "100%|██████████| 25/25 [00:05<00:00,  5.44s/trial, best loss: 1.4870586993879829]\n",
      "100%|██████████| 26/26 [00:04<00:00,  4.74s/trial, best loss: 1.4870586993879829]\n",
      "100%|██████████| 27/27 [00:04<00:00,  4.81s/trial, best loss: 1.4870586993879829]\n",
      "100%|██████████| 28/28 [00:06<00:00,  6.21s/trial, best loss: 1.4870586993879829]\n",
      "100%|██████████| 29/29 [00:04<00:00,  4.91s/trial, best loss: 1.4870586993879829]\n",
      "100%|██████████| 30/30 [00:07<00:00,  7.28s/trial, best loss: 1.4870586993879829]\n",
      "100%|██████████| 31/31 [00:04<00:00,  4.88s/trial, best loss: 1.4870586993879829]\n",
      "100%|██████████| 32/32 [00:05<00:00,  5.25s/trial, best loss: 1.4870586993879829]\n",
      "100%|██████████| 33/33 [00:06<00:00,  6.46s/trial, best loss: 1.4870586993879829]\n",
      "100%|██████████| 34/34 [00:05<00:00,  5.36s/trial, best loss: 1.4870586993879829]\n",
      "100%|██████████| 35/35 [00:06<00:00,  6.18s/trial, best loss: 1.4870586993879829]\n",
      "100%|██████████| 36/36 [00:04<00:00,  4.72s/trial, best loss: 1.4870586993879829]\n",
      "100%|██████████| 37/37 [00:05<00:00,  5.20s/trial, best loss: 1.4870586993879829]\n",
      "100%|██████████| 38/38 [00:05<00:00,  5.38s/trial, best loss: 1.4696775631539318]\n",
      "100%|██████████| 39/39 [00:04<00:00,  4.91s/trial, best loss: 1.4696775631539318]\n",
      "100%|██████████| 40/40 [00:05<00:00,  5.64s/trial, best loss: 1.4696775631539318]\n",
      "100%|██████████| 41/41 [00:07<00:00,  7.94s/trial, best loss: 1.4696775631539318]\n",
      "100%|██████████| 42/42 [00:05<00:00,  5.09s/trial, best loss: 1.4696775631539318]\n",
      "100%|██████████| 43/43 [00:04<00:00,  4.86s/trial, best loss: 1.4696775631539318]\n",
      "100%|██████████| 44/44 [00:05<00:00,  5.90s/trial, best loss: 1.4696775631539318]\n",
      "100%|██████████| 45/45 [00:05<00:00,  5.49s/trial, best loss: 1.4696775631539318]\n",
      "100%|██████████| 46/46 [00:04<00:00,  4.95s/trial, best loss: 1.4696775631539318]\n",
      "100%|██████████| 47/47 [00:05<00:00,  5.22s/trial, best loss: 1.4696775631539318]\n",
      "100%|██████████| 48/48 [00:05<00:00,  5.71s/trial, best loss: 1.4696775631539318]\n",
      "100%|██████████| 49/49 [00:07<00:00,  7.58s/trial, best loss: 1.4696775631539318]\n",
      "100%|██████████| 50/50 [00:07<00:00,  7.50s/trial, best loss: 1.4696775631539318]\n"
     ]
    }
   ],
   "source": [
    "knnmodel.fit(X_train.values, y_train.values)"
   ]
  },
  {
   "cell_type": "code",
   "execution_count": 46,
   "id": "19941b87-82b0-4e09-b6a4-3be9e364ca2f",
   "metadata": {},
   "outputs": [
    {
     "name": "stdout",
     "output_type": "stream",
     "text": [
      "-0.6371758367775693\n"
     ]
    }
   ],
   "source": [
    "print(knnmodel.score(X_test, y_test))"
   ]
  },
  {
   "cell_type": "code",
   "execution_count": 47,
   "id": "d6a96d7f-ff50-49e7-a2e6-eadb3043a19f",
   "metadata": {},
   "outputs": [
    {
     "name": "stdout",
     "output_type": "stream",
     "text": [
      "{'learner': KNeighborsRegressor(metric='manhattan', n_jobs=1, n_neighbors=2, p=1,\n",
      "                    weights='distance'), 'preprocs': (PCA(n_components=5, whiten=True),), 'ex_preprocs': ()}\n"
     ]
    }
   ],
   "source": [
    "print(knnmodel.best_model())"
   ]
  },
  {
   "cell_type": "code",
   "execution_count": 48,
   "id": "e23deff0-d59e-4562-b71b-be8b7ed8af06",
   "metadata": {},
   "outputs": [
    {
     "data": {
      "text/plain": [
       "['KNN_model.pkl']"
      ]
     },
     "execution_count": 48,
     "metadata": {},
     "output_type": "execute_result"
    }
   ],
   "source": [
    "joblib.dump(knnmodel, 'KNN_model.pkl')"
   ]
  },
  {
   "cell_type": "code",
   "execution_count": 62,
   "id": "95cdb637-0a20-4ca6-8c4c-28b69d527eaf",
   "metadata": {},
   "outputs": [],
   "source": [
    "knn_y_predict = knnmodel.predict(X_test)\n",
    "xgb_y_predict = estim.predict(X_test)\n",
    "rfr_y_predicts =  model.predict(X_test)"
   ]
  },
  {
   "cell_type": "code",
   "execution_count": 79,
   "id": "5f27707f-f616-4692-9d3f-fd89852d08b0",
   "metadata": {},
   "outputs": [
    {
     "name": "stdout",
     "output_type": "stream",
     "text": [
      "MSE : 30.234510221094833\n",
      "RMSE : 30.234510221094833\n",
      "R2 : -0.6371758367775693\n"
     ]
    }
   ],
   "source": [
    "# Regression Metrics \n",
    "from sklearn.metrics import mean_squared_error\n",
    "from sklearn.metrics import r2_score\n",
    "\n",
    "\n",
    "errors = mean_squared_error(y_test, knn_y_predict, squared=False)\n",
    "r2 = r2_score(y_test,knn_y_predict)\n",
    "# report error\n",
    "print('MSE :',errors)\n",
    "print(\"RMSE :\",np.sqrt(mean_squared_error(y_test,knn_y_predict)))\n",
    "print('R2 :',r2)"
   ]
  },
  {
   "cell_type": "code",
   "execution_count": 80,
   "id": "ed361ac5-7426-4a00-b96a-34fe491af0f8",
   "metadata": {},
   "outputs": [
    {
     "name": "stdout",
     "output_type": "stream",
     "text": [
      "MSE : 7.380620239832052\n",
      "RMSE : 7.380620239832052\n",
      "R2 : 0.9024392409722292\n"
     ]
    }
   ],
   "source": [
    "errors = mean_squared_error(y_test,xgb_y_predict , squared=False)\n",
    "r2 = r2_score(y_test,xgb_y_predict)\n",
    "# report error\n",
    "print('MSE :',errors)\n",
    "print(\"RMSE :\",np.sqrt(mean_squared_error(y_test,xgb_y_predict)))\n",
    "print('R2 :',r2)"
   ]
  },
  {
   "cell_type": "code",
   "execution_count": 81,
   "id": "49dc6152-6c60-4e60-92fc-fe5c480919f3",
   "metadata": {},
   "outputs": [
    {
     "name": "stdout",
     "output_type": "stream",
     "text": [
      "MSE : 171.7909553023628\n",
      "RMSE : 171.7909553023628\n",
      "R2 : -51.855482324244385\n"
     ]
    }
   ],
   "source": [
    "errors = mean_squared_error(y_test,rfr_y_predicts , squared=False)\n",
    "r2 = r2_score(y_test,rfr_y_predicts)\n",
    "# report error\n",
    "print('MSE :',errors)\n",
    "print(\"RMSE :\",np.sqrt(mean_squared_error(y_test,rfr_y_predicts)))\n",
    "print('R2 :',r2)"
   ]
  },
  {
   "cell_type": "code",
   "execution_count": 86,
   "id": "83ac0bc9-f266-4596-b5fe-1eac9b456e91",
   "metadata": {},
   "outputs": [
    {
     "data": {
      "image/png": "[encoded data removed]",
      "text/plain": [
       "<Figure size 432x288 with 1 Axes>"
      ]
     },
     "metadata": {
      "needs_background": "light"
     },
     "output_type": "display_data"
    }
   ],
   "source": [
    "## Visualizing Predicted vs Actual Values\n",
    "plt.scatter(y_test, rfr_y_predicts, color = 'blue')\n",
    "plt.title('Check It (Random Forest Regression Model)')\n",
    "plt.xlabel('Actual values')\n",
    "plt.ylabel('Predicted values')\n",
    "plt.show()"
   ]
  },
  {
   "cell_type": "code",
   "execution_count": 87,
   "id": "3f7f8679-fcd8-48f1-b624-e788d8640b10",
   "metadata": {},
   "outputs": [
    {
     "data": {
      "image/png": "[encoded data removed]",
      "text/plain": [
       "<Figure size 432x288 with 1 Axes>"
      ]
     },
     "metadata": {
      "needs_background": "light"
     },
     "output_type": "display_data"
    }
   ],
   "source": [
    "plt.scatter(y_test, knn_y_predict, color = 'blue')\n",
    "plt.title('Check It (KNN Regression Model)')\n",
    "plt.xlabel('Actual values')\n",
    "plt.ylabel('Predicted values')\n",
    "plt.show()"
   ]
  },
  {
   "cell_type": "code",
   "execution_count": 88,
   "id": "019f1562-1378-41d9-b820-09882abed3d9",
   "metadata": {},
   "outputs": [
    {
     "data": {
      "image/png": "[encoded data removed]",
      "text/plain": [
       "<Figure size 432x288 with 1 Axes>"
      ]
     },
     "metadata": {
      "needs_background": "light"
     },
     "output_type": "display_data"
    }
   ],
   "source": [
    "plt.scatter(y_test, xgb_y_predict, color = 'blue')\n",
    "plt.title('Check It (XGBoost Regression Model)')\n",
    "plt.xlabel('Actual values')\n",
    "plt.ylabel('Predicted values')\n",
    "plt.show()"
   ]
  },
  {
   "cell_type": "code",
   "execution_count": 93,
   "id": "e8dd86be-e985-427e-93ce-09729c56866b",
   "metadata": {},
   "outputs": [
    {
     "data": {
      "text/plain": [
       "<AxesSubplot:xlabel='County Number'>"
      ]
     },
     "execution_count": 93,
     "metadata": {},
     "output_type": "execute_result"
    },
    {
     "data": {
      "image/png": "[encoded data removed]",
      "text/plain": [
       "<Figure size 432x288 with 1 Axes>"
      ]
     },
     "metadata": {
      "needs_background": "light"
     },
     "output_type": "display_data"
    }
   ],
   "source": [
    "### Visualze Sales Predictions for Different Counties\n",
    "sns.regplot(x=X_test['County Number'], y=knn_y_predict)"
   ]
  },
  {
   "cell_type": "code",
   "execution_count": 94,
   "id": "c26a61cc-041b-4a5f-8969-34ee0df29a36",
   "metadata": {},
   "outputs": [
    {
     "data": {
      "text/plain": [
       "<AxesSubplot:xlabel='County Number'>"
      ]
     },
     "execution_count": 94,
     "metadata": {},
     "output_type": "execute_result"
    },
    {
     "data": {
      "image/png": "[encoded data removed]",
      "text/plain": [
       "<Figure size 432x288 with 1 Axes>"
      ]
     },
     "metadata": {
      "needs_background": "light"
     },
     "output_type": "display_data"
    }
   ],
   "source": [
    "sns.regplot(x=X_test['County Number'], y=rfr_y_predicts)"
   ]
  },
  {
   "cell_type": "markdown",
   "id": "c0aea201-0d71-4ebf-8715-df76eeb485ec",
   "metadata": {},
   "source": [
    "### Machine Learning Predictions & Outcomes "
   ]
  },
  {
   "cell_type": "markdown",
   "id": "aef0d203-a40e-426e-8795-e63c60f83827",
   "metadata": {},
   "source": [
    "### Visualizations of Results"
   ]
  },
  {
   "cell_type": "markdown",
   "id": "7bb4078b-7f5a-4550-8092-b22361690601",
   "metadata": {},
   "source": [
    "### Tralier Documentation "
   ]
  },
  {
   "cell_type": "markdown",
   "id": "d21d2b26-15c0-4743-9781-57f75ef17985",
   "metadata": {},
   "source": [
    "### Additional Features "
   ]
  },
  {
   "cell_type": "markdown",
   "id": "7786b5b5-e463-44c6-a7ef-1f323ab92d72",
   "metadata": {},
   "source": [
    "### Final Remarks from each Member \n",
    "\n",
    "#### Ruwindhu Hettige Don - \n",
    "\n",
    "#### Thimantha Vidanagamage - \n",
    "\n",
    "#### Suheet Sonawane - \n",
    "\n",
    "#### Samarpan Pandey - \n",
    "\n",
    "#### Tirthesh Jani - "
   ]
  },
  {
   "cell_type": "markdown",
   "id": "668931de-228c-4d96-9288-82a733c2a599",
   "metadata": {
    "jp-MarkdownHeadingCollapsed": true,
    "tags": []
   },
   "source": [
    "### References \n",
    "* Arora, T., Chandna, R., Conant, S., Sadler, B., & Slater, R. (2020). Demand Forecasting In Wholesale Alcohol Distribution: An Ensemble Approach. SMU Data Science Review, 3(1). Retrieved 11 February 2022, from https://scholar.smu.edu/datasciencereview/vol3/iss1/7.\n",
    "\n",
    "* By the numbers: How important is December for the liquor business?. (2019). [Blog]. Retrieved 11 February 2022, from https://liquorbarn.com/by-the-numbers-how-important-is-december-for-the-liquor-business/.\n",
    "\n",
    "* Hirche, M., Haensch, J., & Lockshin, L. (2021). Comparing the day temperature and holiday effects on retail sales of alcoholic beverages – a time-series analysis. International Journal Of Wine Business Research, 33(3), 432-455. https://doi.org/10.1108/ijwbr-07-2020-0035\n",
    "* Inventory Management using Machine Learning. (2020), V9(06). https://doi.org/10.17577/ijertv9is060661\n",
    "* Kochak, A., & Sharma, S. (2015). DEMAND FORECASTING USING NEURAL NETWORK FOR SUPPLY CHAIN MANAGEMENT. Lijmerr. Retrieved 11 February 2022,.\n",
    "* Hyperopt-Sk Learn Documentation - hyperopt-sklearn by hyperopt\n",
    "* Analytics Vidya - Hyperopt - Alternative Hyperparameter Optimization Technique (analyticsvidhya.com)\n",
    "\n"
   ]
  }
 ],
 "metadata": {
  "kernelspec": {
   "display_name": "Python 3 (ipykernel)",
   "language": "python",
   "name": "python3"
  },
  "language_info": {
   "codemirror_mode": {
    "name": "ipython",
    "version": 3
   },
   "file_extension": ".py",
   "mimetype": "text/x-python",
   "name": "python",
   "nbconvert_exporter": "python",
   "pygments_lexer": "ipython3",
   "version": "3.8.3"
  }
 },
 "nbformat": 4,
 "nbformat_minor": 5
}
